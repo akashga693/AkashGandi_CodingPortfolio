{
  "nbformat": 4,
  "nbformat_minor": 0,
  "metadata": {
    "colab": {
      "provenance": []
    },
    "kernelspec": {
      "name": "python3",
      "display_name": "Python 3"
    },
    "language_info": {
      "name": "python"
    }
  },
  "cells": [
    {
      "cell_type": "markdown",
      "source": [
        "# Setup"
      ],
      "metadata": {
        "id": "bLMt7z4FJao2"
      }
    },
    {
      "cell_type": "code",
      "source": [
        "# PUT ANY IMPORT STATEMENTS YOU NEED HERE"
      ],
      "metadata": {
        "id": "aulNmaJZJbGO"
      },
      "execution_count": null,
      "outputs": []
    },
    {
      "cell_type": "code",
      "source": [
        "import random"
      ],
      "metadata": {
        "id": "E3tMaNa1dqls"
      },
      "execution_count": null,
      "outputs": []
    },
    {
      "cell_type": "markdown",
      "source": [
        "# Assignment 2\n"
      ],
      "metadata": {
        "id": "d4L1SSszOKXB"
      }
    },
    {
      "cell_type": "markdown",
      "source": [
        "## IMPORTANT NOTE:\n",
        "\n",
        "### <b><font color=\"navy\">Do Not Use Any Kind of `list`/`tuple`/`set` or any other Iterable for <b>ANY</b> question in this assignment</font></b>\n",
        "\n",
        "In general, you are restricted to the concepts and Python facilities we learned about so far in the book, videos, and in class.\n"
      ],
      "metadata": {
        "id": "NoeQo94RVMSC"
      }
    },
    {
      "cell_type": "markdown",
      "source": [
        "## Question 1\n",
        "\n",
        "Write some code using a while loop that\n",
        "\n",
        "- asks the user for a maximum number of iterations (i.e., loops). Keep doing so until they either\n",
        "    - give you a valid integer between 2 and 20\n",
        "    - enters an empty string.\n",
        "        - If they do this, then quit without printing anything further\n",
        "    - enters something that isn't an integer\n",
        "        - If they do this, tell them that it's not an integer\n",
        "    - enters a valid integer that's out of bounds\n",
        "        - If they do this, tell them about the bounds\n",
        "    - enters a valid integer that's in bounds\n",
        "        - If they do this, create a `while` loop that loops the specified number of times, each time printing \"Iteration #{THE CURRENT ITERATION NUMBER}\"\n",
        "\n",
        "\n",
        "HINT: Although you _could_ write this program using 2 loops where one is embedded inside the other, you do not _have_ to do this. Instead, you could use two consequtive loops. Either approach is fine with us.\n",
        "\n",
        "Here is what your output should look like (including spaces between queries and the space between getting a valid input and printing the iteration messages):\n",
        "\n",
        "```\n",
        "Max Iterations (2-20)? 1\n",
        "That's not an integer between 2 and 20!\n",
        "\n",
        "Max Iterations (2-20)? 99\n",
        "That's not an integer between 2 and 20!\n",
        "\n",
        "Max Iterations (2-20)? six\n",
        "That's not an integer!\n",
        "\n",
        "Max Iterations (2-20)? 3.3\n",
        "That's not an integer!\n",
        "\n",
        "Max Iterations (2-20)? 4\n",
        "\n",
        "Iteration #1\n",
        "Iteration #2\n",
        "Iteration #3\n",
        "Iteration #4\n",
        "```"
      ],
      "metadata": {
        "id": "l0g1dkp68n_i"
      }
    },
    {
      "cell_type": "code",
      "source": [
        "# PUT YOUR CODE HERE\n",
        "\n",
        "valid_input_received = False\n",
        "\n",
        "\n",
        "while not valid_input_received:\n",
        "    max_iterations = input(\"Max Iterations (2-20): \")\n",
        "\n",
        "\n",
        "    if max_iterations == \"\":\n",
        "        break\n",
        "\n",
        "\n",
        "    if not max_iterations.isdigit():\n",
        "        print(\"That's not an integer!\")\n",
        "    else:\n",
        "        max_iterations = int(max_iterations)\n",
        "\n",
        "        if 2 <= max_iterations <= 20:\n",
        "            valid_input_received = True\n",
        "        else:\n",
        "            print(\"That's not an integer between 2 and 20!\")\n",
        "\n",
        "\n",
        "if valid_input_received:\n",
        "    current_iteration = 1\n",
        "    while current_iteration <= max_iterations:\n",
        "        print(f\"Iteration #{current_iteration}\")\n",
        "        current_iteration += 1\n",
        "\n",
        "\n"
      ],
      "metadata": {
        "id": "dZGIdQ938dE2",
        "colab": {
          "base_uri": "https://localhost:8080/"
        },
        "outputId": "25c1003a-cf87-4512-aad7-1ca61dc357b1"
      },
      "execution_count": null,
      "outputs": [
        {
          "output_type": "stream",
          "name": "stdout",
          "text": [
            "Max Iterations (2-20): 1232\n",
            "That's not an integer between 2 and 20!\n",
            "Max Iterations (2-20): 2.2\n",
            "That's not an integer!\n",
            "Max Iterations (2-20): six\n",
            "That's not an integer!\n",
            "Max Iterations (2-20): 4\n",
            "Iteration #1\n",
            "Iteration #2\n",
            "Iteration #3\n",
            "Iteration #4\n"
          ]
        }
      ]
    },
    {
      "cell_type": "markdown",
      "source": [
        "## Question 2\n",
        "\n",
        "1) Create a variable called `old_password` and set it to \"bosco\"\n",
        "\n",
        "\n",
        "2) Ask the user this question:\n",
        "\"Enter a new password:\"\n",
        "\n",
        "They password entered must be\n",
        "\n",
        "- different than the one in `old_password`\n",
        "- between 3 chracters long and 10 characters long\n",
        "- not password, Password or PASSWORD\n",
        "\n",
        "3) If either one of these rules is violated, tell the user `\"You cannot change your passoword to '{HERE PUT THE PW THEY TRIED}' because {HERE PUT THE REASON WHY}\"`, for example:\n",
        "\n",
        "\n",
        "\"You cannot change your password to 'bosco' because that password is the same as your old password.\"\n",
        "\n",
        "or\n",
        "\n",
        "\"You cannot change your password to 'me' because passwords have to be at least 3 characters long\"\n",
        "\n",
        "and so on for passwords that are too long and passwords that are a permutation of 'password' **(see expected output below)**.\n",
        "\n",
        "4) If the user makes any error, give the error message (as describe above) and then let them try again.\n",
        "\n",
        "5) If the user enters an empty string, tell them \"Password Change Cancelled\" and then exit the program\n",
        "\n",
        "6) If they enter a valid password, tell them \"Password successfully changed from '{OLD PASSWORD}' to '{NEW PASSWORD}'\"\n",
        "\n",
        "Your output should look like this:\n",
        "\n",
        "```\n",
        "Enter a new password: bosco\n",
        "You cannot change your password to 'bosco' because that password is the same as your old password.\n",
        "\n",
        "Enter a new password: ET\n",
        "You cannot change your password to 'ET' because passwords must be at least 3 characters long.\n",
        "\n",
        "Enter a new password: TribeCalledQuest\n",
        "You cannot change your password to 'TribeCalledQuest' because passwords must be at most 10 characters long.\n",
        "\n",
        "Enter a new password: Password\n",
        "You cannot change your password to 'Password' because permutations of 'password' are not allowed.\n",
        "\n",
        "Enter a new password: PythonRulz\n",
        "Password successfully changed from 'bosco' to 'PythonRulz'.\n",
        "```"
      ],
      "metadata": {
        "id": "P8AEz9MoOMu6"
      }
    },
    {
      "cell_type": "code",
      "source": [
        "# PUT YOUR CODE HERE\n",
        "old_password = 'bosco'\n",
        "\n",
        "while True:\n",
        "  password_input = input(\"Enter a new password: \")\n",
        "\n",
        "  if password_input == old_password:\n",
        "    print(f\"You cannot change your password to '{password_input}' because that is the same as your old password.\")\n",
        "\n",
        "  elif len(password_input) < 3:\n",
        "    print(f\"You cannot change your password to '{password_input}' because passwords must be at least 3 characters long.\")\n",
        "\n",
        "  elif len(password_input) > 10:\n",
        "    print(f\"You cannot change your password to '{password_input}' because passwords must be at most 10 characters long.\")\n",
        "\n",
        "  elif password_input == ('password' or 'Password' or 'PASSWORD'):\n",
        "    print(f\"You cannot change your password to '{password_input}' because permutations of 'password' are not allowed.\")\n",
        "\n",
        "  else:\n",
        "    print(f\"Password successfully changed from '{old_password}' to '{password_input}'\")\n",
        "    break\n",
        "\n",
        "\n",
        "\n"
      ],
      "metadata": {
        "id": "1CfgymVxOuey",
        "colab": {
          "base_uri": "https://localhost:8080/"
        },
        "outputId": "07e74b57-53bf-4dbf-fa7a-631585b7436b"
      },
      "execution_count": null,
      "outputs": [
        {
          "output_type": "stream",
          "name": "stdout",
          "text": [
            "Enter a new password: PythonRulz\n",
            "Password successfully changed from bosco to PythonRulz\n"
          ]
        }
      ]
    },
    {
      "cell_type": "markdown",
      "source": [
        "## Question 3\n",
        "\n",
        "When Programming A Digit-Span Task, you give a person a long sequence of digits (presented auditorily) and after you've finished, they have to repeat them back to you correctly in order. To create a proper list of digits for such a task, you have to know how to do so without repeating digits. Here you will explore how to do that by writing a program that generates 13 random digits where no digit occurs twice in a row.\n",
        "\n",
        "---\n",
        "\n",
        "- Create a **single** `while` loop.\n",
        "- On each iteration, you should generate a random number from 1-10.\n",
        "- When you print a random number, it should be in this format:\n",
        "    - 2: 4\n",
        "    - where the first number is the count of how many random numbers you've printed so far and the second number is the current random number.\n",
        "    - in \"2: 4\", 4 is the second random number I've printed.\n",
        "- The random number printed on any iteration should not be the same as the most recently printed number. Thus, you should never print the same number as you printed on the previous iteration.\n",
        "- You'll probably want to use a variable to keep track of which random number was last printed.\n",
        "- If you randomly generate a duplicate number (i.e., same as the last iteration), use the `continue` keyword to avoid printing that number\n",
        "- The numbers you print may not all be unique...that's ok, just avoid printing the same number twice in a row.\n",
        "- After you print a total of 13 numbers, stop the program. E.g.:\n",
        "\n",
        "\n",
        "```\n",
        "1: 3\n",
        "2: 6\n",
        "3: 9\n",
        "4: 4\n",
        "5: 2\n",
        "6: 10\n",
        "7: 6\n",
        "8: 3\n",
        "9: 4\n",
        "10: 3\n",
        "11: 2\n",
        "12: 4\n",
        "13: 7\n",
        "```"
      ],
      "metadata": {
        "id": "hv397XYmIMgw"
      }
    },
    {
      "cell_type": "code",
      "source": [
        "# PUT YOUR CODE HERE\n",
        "program_count = 13\n",
        "count = 0\n",
        "random_num = 0\n",
        "duplicate = 0\n",
        "\n",
        "while count < program_count:\n",
        "\n",
        "  count += 1\n",
        "  duplicate = random_num\n",
        "  random_num = random.randrange(1, 11)\n",
        "  if duplicate == random_num:\n",
        "    continue\n",
        "  else:\n",
        "    print(f\"{count}: {random_num}\")\n",
        "\n",
        "\n"
      ],
      "metadata": {
        "id": "RrgKylVkIc2W",
        "colab": {
          "base_uri": "https://localhost:8080/"
        },
        "outputId": "e8feb508-65af-40c2-e5d6-edae83ef14db"
      },
      "execution_count": null,
      "outputs": [
        {
          "output_type": "stream",
          "name": "stdout",
          "text": [
            "1: 4\n",
            "2: 10\n",
            "3: 6\n",
            "4: 1\n",
            "5: 8\n",
            "6: 9\n",
            "7: 4\n",
            "8: 3\n",
            "11: 2\n",
            "12: 7\n",
            "13: 2\n"
          ]
        }
      ]
    },
    {
      "cell_type": "markdown",
      "source": [
        "## Question 4\n",
        "\n",
        "STAR GRID\n",
        "\n",
        "- Create a program that prints out a grid of asterisks that is 8 asterisks wide and 8 asterisks tall.\n",
        "- Make sure there is a space between each asterisk.\n",
        "- You can use **ONE** `while` loop to achieve this, no embedded `while` loops are allowed.\n",
        "- You can only print **ONE** asterisk at a time.\n",
        "- You can use only **TWO** `print()` statements in your code.\n",
        "- Without using an embedded `while` loop, you will have to think about how you can get Python to stop printing askerisks when it has printed 8 on a row and then start printing asterisks on the next row.\n",
        "- Your output should look like this:\n",
        "\n",
        "\n",
        "```\n",
        "* * * * * * * *\n",
        "* * * * * * * *\n",
        "* * * * * * * *\n",
        "* * * * * * * *\n",
        "* * * * * * * *\n",
        "* * * * * * * *\n",
        "* * * * * * * *\n",
        "* * * * * * * *\n",
        "\n",
        "```"
      ],
      "metadata": {
        "id": "qZMIPg5XNWxg"
      }
    },
    {
      "cell_type": "code",
      "source": [
        "# PUT YOUR CODE HERE"
      ],
      "metadata": {
        "id": "iUYK0BqwNXV4"
      },
      "execution_count": null,
      "outputs": []
    },
    {
      "cell_type": "code",
      "source": [
        "\n",
        "max_rows = 8\n",
        "max_cols = 8\n",
        "\n",
        "rows = 0\n",
        "\n",
        "while rows < max_rows:\n",
        "  cols = 0\n",
        "  while cols < max_cols:\n",
        "    print('* ', end='')\n",
        "\n",
        "    cols += 1\n",
        "\n",
        "  print()\n",
        "  rows += 1"
      ],
      "metadata": {
        "id": "pzSO-UTNQjzb",
        "colab": {
          "base_uri": "https://localhost:8080/"
        },
        "outputId": "90527862-ff4c-48c4-febb-b77a595ef5d4"
      },
      "execution_count": null,
      "outputs": [
        {
          "output_type": "stream",
          "name": "stdout",
          "text": [
            "* * * * * * * * \n",
            "* * * * * * * * \n",
            "* * * * * * * * \n",
            "* * * * * * * * \n",
            "* * * * * * * * \n",
            "* * * * * * * * \n",
            "* * * * * * * * \n",
            "* * * * * * * * \n"
          ]
        }
      ]
    }
  ]
}