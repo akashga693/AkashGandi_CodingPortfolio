{
  "cells": [
    {
      "cell_type": "markdown",
      "metadata": {
        "id": "sZIoWrYdJdez",
        "notebookgrader": {
          "id": "8ac000bfffd536e8c2912d22988a106d1a8e9ed1",
          "readonly": true
        }
      },
      "source": [
        "# Regions\n",
        "\n",
        "### © Luca de Alfaro, 2018-21, [CC-BY_NC License](http://creativecommons.org/licenses/by-nc-nd/4.0/)."
      ]
    },
    {
      "cell_type": "markdown",
      "metadata": {
        "id": "PKJ_D6LFmfiZ",
        "notebookgrader": {
          "id": "c38eaba6d9aeefade8d14152f521f5de8eef490c",
          "readonly": true
        }
      },
      "source": [
        "In this module, we will write code to represent regions of space.  We will represent a _region_ as the union of rectangles whose sides are parallel to the Cartesian axes.  Of course, this does not suffice to represent all possible regions of space, but by using lots of small rectangles, we can at least approximate most (continuous, etc) regions.\n",
        "\n",
        "Since a region is the union of rectangles, let us turn our attention to rectangles."
      ]
    },
    {
      "cell_type": "markdown",
      "metadata": {
        "id": "_Ub7cVHumfi6",
        "notebookgrader": {
          "id": "367aeba68f3997ec0ada374f4d5a83c5fcc7ad11",
          "readonly": true
        }
      },
      "source": [
        "## Rectangles\n",
        "\n",
        "We need to represent rectangles whose sides, and edges, are parallel to the axes of the Cartesian space.\n",
        "What is a good representation for a rectangle?\n",
        "\n",
        "Let us consider informally the 2D case first.\n",
        "One of the most obvious representations for such a rectangle consists in representing it by its four vertices, represented as $(x, y)$ coordinate pairs.  The following is a possibility:"
      ]
    },
    {
      "cell_type": "code",
      "execution_count": null,
      "metadata": {
        "id": "VZDo8Rd2mfi8",
        "notebookgrader": {
          "id": "1738669007b7ae9ecc0bada4c3d5d16a45a55e6a",
          "is_solution": false,
          "is_tests": false,
          "readonly": true
        }
      },
      "outputs": [],
      "source": [
        "class NaiveRectangle1(object):\n",
        "\n",
        "    def __init__(self, x0, y0, x1, y1, x2, y2, x3, y3):\n",
        "        self.x0 = x0 # Lower left\n",
        "        self.x1 = x1 # Upper left\n",
        "        self.x2 = x2 # Upper right\n",
        "        self.x3 = x3 # Lower right\n",
        "        self.y0 = y0 # Lower left\n",
        "        self.y1 = y1 # Upper left\n",
        "        self.y2 = y2 # Upper right\n",
        "        self.y3 = y3 # Lower right"
      ]
    },
    {
      "cell_type": "markdown",
      "metadata": {
        "id": "zGTCzOR7mfjA",
        "notebookgrader": {
          "id": "edfcd9d6a7f2c49409a7608547b8986cc3044554",
          "readonly": true
        }
      },
      "source": [
        "This representation suffers from a first immediate problem: in a 2D rectangle with sides parallel to the edges, there are only 4 independent numbers, not 8!  In particular, we see that it must be `x0 == x3`, and `x1 == x2`, and `y0 == y1`, and `y2 = y3`.\n",
        "This suggests keeping only the two opposite corners, for instance, lower left and upper right:"
      ]
    },
    {
      "cell_type": "code",
      "execution_count": null,
      "metadata": {
        "id": "Yl-uXSdomfjB",
        "notebookgrader": {
          "id": "40cb2dcbd8916de270d56a993ef6cec5af0dafee",
          "is_solution": false,
          "is_tests": false,
          "readonly": true
        }
      },
      "outputs": [],
      "source": [
        "class NaiveRectangle2(object):\n",
        "\n",
        "    def __init__(self, xll, yll, xur, yur):\n",
        "        self.xll = x0 # Lower left\n",
        "        self.yll = yll # Lower left\n",
        "        self.xur = xur # Upper right\n",
        "        self.yur = yur# Upper right\n"
      ]
    },
    {
      "cell_type": "markdown",
      "metadata": {
        "id": "fmSzx_GSmfjI",
        "notebookgrader": {
          "id": "a0a2a410921394fd35194175b884d1bec7d041f6",
          "readonly": true
        }
      },
      "source": [
        "This representation, based on \"selected vertices\", is a plausible representation for 2D rectangles, but I argue not an optimal one.  There are two problems with it.\n",
        "\n",
        "First, it is not clear how to generalize it to multiple dimensions.  In 3D, for instance, two vertices are not enough, four are too many, and yet, one can check that no set of three vertices of a rectangle suffices to uniquely identify the rectangle.  This lack of generalizability should make us suspicious that representing rectangles in terms of a reduced set of their vertices is not a good idea.\n",
        "\n",
        "Second, even if we limit ourselves to 2D, the representation in terms of opposite vertices does not make it easy to implement the operations we need.  At a minimum, we need to compute operations between rectangles such as intersection and difference, so we can subtract boxes from the empty space.  Yet, there are many ways in which for example rectangles can intersect:\n",
        "\n",
        "* One rectangle contains a vertex of the other.\n",
        "* One rectangle is completely contained the other.\n",
        "* One rectangle has a face in the other rectangle.\n",
        "\n",
        "and perhaps more.  If we try to hard-code this for 3D rectangles, implementing operations such as intersection, and difference, might result in very cumbersome case analysis.  \n",
        "\n",
        "Whenever things turn complicated, it is a good idea to wonder whether there is perhaps some other way of thinking at the problem, which is perhaps initially less apparent, but that can lead to a much simpler treatment.  In this case, there is: it is _intervals_.  \n",
        "\n",
        "A 1D rectangle is simply an interval.  We can think of a 2D rectangle, rather than as a collection of vertices, as the intersection of two intervals: one for the x-axis, and one for the y-axis.  Similarly, a 3D rectangle can be thought of as the intersection of three intervals, on the x, y, and z axes.  To compute the intersection of two rectangles, we just need to compute the intersection of their intervals on the respective axes.  Thus, intervals provide a simple representation that generalizes well to multiple dimensions.\n",
        "\n",
        "We start building our representation from intervals.  We then use intersection of intervals to represent rectangles, and unions rectangels to represent regions of space.\n"
      ]
    },
    {
      "cell_type": "markdown",
      "metadata": {
        "id": "6sQh-p9ZmzYB",
        "notebookgrader": {
          "id": "719e9011450427b8d8173e75ce234b0954070a08",
          "readonly": true
        }
      },
      "source": [
        "## Intervals\n",
        "\n",
        "An interval is defined by its two endpoints.  We keep them sorted, which will make it (a lot) easier to operate on them."
      ]
    },
    {
      "cell_type": "code",
      "execution_count": null,
      "metadata": {
        "id": "PRXg7gsBeA2a",
        "notebookgrader": {
          "id": "399579236a25e7993351607d07fed4e51de20f65",
          "is_solution": false,
          "is_tests": false,
          "readonly": true
        }
      },
      "outputs": [],
      "source": [
        "class Interval(object):\n",
        "\n",
        "    def __init__(self, x0, x1):\n",
        "        # Sorts the endpoints, to ensure that x0 <= x1.\n",
        "        x0, x1 = (x0, x1) if x0 < x1 else (x1, x0)\n",
        "        assert x0 < x1 # No point intervals.\n",
        "        self.x0 = x0\n",
        "        self.x1 = x1\n",
        "\n",
        "    @property\n",
        "    def length(self):\n",
        "        return self.x1 - self.x0\n",
        "\n",
        "    def endpoints(self):\n",
        "        return (self.x0, self.x1)\n",
        "\n",
        "    def __getitem__(self, i):\n",
        "        \"\"\"Alternative way of accessing endpoints.\"\"\"\n",
        "        if i == 0:\n",
        "            return self.x0\n",
        "        elif i == 1:\n",
        "            return self.x1\n",
        "        raise KeyError()\n",
        "\n",
        "    def __repr__(self):\n",
        "        return \"[{},{}]\".format(self.x0, self.x1)"
      ]
    },
    {
      "cell_type": "markdown",
      "metadata": {
        "id": "qDCRAoqvS2f_",
        "notebookgrader": {
          "id": "ff058271acbdb2fef76b3e00bb32577e1c115502",
          "readonly": true
        }
      },
      "source": [
        "The main operations we need on intervals, to do anything interesting, are:\n",
        "\n",
        "* **Intersection.** Given two intervals `i` and `j`, we want to define `__and__` for an interval so that `i && j` will be either `None`, if `i` and `j` have no intersection, or the interval corresponding to the intersection of `i` and `j`.\n",
        "\n",
        "* **Union.** The union of two intervals is not necessarily an interval; it could also be _two_ intervals, if the original intervals are disjoint and there is a gap in between.  Thus, we define `__sub__` so that `i - j` returns a _list_ consisting of 1 or 2 intervals.\n",
        "\n",
        "* **Difference.** The difference `i - j` is the portion of `i` that is not in `j`.  The result is a _list_ of intervals, containing 0 intervals (if `j` includes `i`), one interval (if `j` does not overlap `i`, or if it overlaps only from one side of `i`), or two intervals (if `j` falls in the middle of `i`).\n",
        "\n",
        "* **Equality.** Two intervals are equal if, well, they are equal.\n",
        "\n",
        "* **Membership.** We test for a point belonging to an interval.\n",
        "\n",
        "In defining these operations, we disregard isolated points, and we blur the distinction between open and closed intervals.  After all, we only care about representing regions of space, and so isolated points and things that have no extension, or no volume, are not a concern of ours.  So for instance, if we subtract the interval $[3, 5]$ from $[0, 4]$, the result will be simply the interval $[4, 5]$: we do not track whether the interval is open or closed at 5.  Likewise, point-wise intervals such as $[5, 5]$ are simply not considered."
      ]
    },
    {
      "cell_type": "markdown",
      "metadata": {
        "id": "CeEclrZeVBp1",
        "notebookgrader": {
          "id": "44001314ad20fe3bc56b487c7121fabd69903f54",
          "readonly": true
        }
      },
      "source": [
        "### Equality\n",
        "\n",
        "Let us start by implementing equality.  We leave this to you."
      ]
    },
    {
      "cell_type": "code",
      "execution_count": null,
      "metadata": {
        "id": "v1OxTsxdSovZ",
        "notebookgrader": {
          "id": "894a28e2eb18c6e4a72aaf1a342cfb389a98e940",
          "is_solution": true,
          "is_tests": false,
          "readonly": false
        }
      },
      "outputs": [],
      "source": [
        "#@title Defining Equality\n",
        "\n",
        "def interval_equality(self, other):\n",
        "    \"\"\"Return True iff the intervals self and other are equal, and False otherwise.\"\"\"\n",
        "    # Remember, other is not guaranteed to be an Interval.\n",
        "    if not isinstance(other, Interval):\n",
        "        return False\n",
        "    ### YOUR SOLUTION HERE\n",
        "    if isinstance(other, Interval) == (self, Interval):\n",
        "      return True\n",
        "    elif self.endpoints() == other.endpoints():\n",
        "      return True\n",
        "\n",
        "Interval.__eq__ = interval_equality"
      ]
    },
    {
      "cell_type": "code",
      "execution_count": null,
      "metadata": {
        "id": "8yy2QefuVmLn",
        "notebookgrader": {
          "id": "4072e793d1bcaf6d0f36437e7b6ae621aff7272e",
          "is_solution": false,
          "is_tests": false,
          "readonly": true
        },
        "colab": {
          "base_uri": "https://localhost:8080/"
        },
        "outputId": "a9631e4b-df3d-4641-90c1-abb3dbe13bea"
      },
      "outputs": [
        {
          "output_type": "execute_result",
          "data": {
            "text/plain": [
              "[3,5]"
            ]
          },
          "metadata": {},
          "execution_count": 47
        }
      ],
      "source": [
        "i = Interval(3, 5)\n",
        "j = Interval(4, 5)\n",
        "i"
      ]
    },
    {
      "cell_type": "code",
      "execution_count": null,
      "metadata": {
        "id": "o6Dl6covVsiV",
        "notebookgrader": {
          "id": "6737affef63e2c740a9ed158089039f1a1e3367c",
          "is_solution": false,
          "is_tests": true,
          "readonly": true,
          "test_points": 5
        }
      },
      "outputs": [],
      "source": [
        "# Tests 5 points.\n",
        "\n",
        "assert i != j\n",
        "assert Interval(5, 7) == Interval(5, 7)"
      ]
    },
    {
      "cell_type": "markdown",
      "metadata": {
        "id": "lfB0GWs6V84f",
        "notebookgrader": {
          "id": "d2d64a4b1f8b2b0ebc8a2d56674aa5df356d4466",
          "readonly": true
        }
      },
      "source": [
        "### Union\n",
        "\n",
        "We define union for you, to give you an example."
      ]
    },
    {
      "cell_type": "code",
      "execution_count": null,
      "metadata": {
        "id": "xLhnLYgJSoec",
        "notebookgrader": {
          "id": "5893a0b4fb7a01a91368783538074c5d1d675684",
          "is_solution": false,
          "is_tests": false,
          "readonly": true
        }
      },
      "outputs": [],
      "source": [
        "def interval_or(self, other):\n",
        "    \"\"\"Union of self and other.  Returns a list of 1 or 2 non-overlapping intervals.\"\"\"\n",
        "    if self.x1 < other.x0 or other.x1 < self.x0:\n",
        "        # Disjoint\n",
        "        return [self, other]\n",
        "    else:\n",
        "        # Have intersection, merge them.\n",
        "        return [Interval(min(self.x0, other.x0), max(self.x1, other.x1))]\n",
        "\n",
        "Interval.__or__ = interval_or"
      ]
    },
    {
      "cell_type": "code",
      "execution_count": null,
      "metadata": {
        "id": "LaGjOz9_WZgp",
        "notebookgrader": {
          "id": "d16b841a7e681bc44d408e35b185b476a613439a",
          "is_solution": false,
          "is_tests": false,
          "readonly": true
        },
        "colab": {
          "base_uri": "https://localhost:8080/"
        },
        "outputId": "5fc80d8d-05cc-4e5e-ba3c-648ef3a7f4f2"
      },
      "outputs": [
        {
          "output_type": "execute_result",
          "data": {
            "text/plain": [
              "[[3,5], [7,10]]"
            ]
          },
          "metadata": {},
          "execution_count": 51
        }
      ],
      "source": [
        "Interval(3, 5) | Interval(7, 10)"
      ]
    },
    {
      "cell_type": "code",
      "execution_count": null,
      "metadata": {
        "id": "jkO7kVMkWmiM",
        "notebookgrader": {
          "id": "32c34d08f0c4d164ebff581eea1772f3759dd2d5",
          "is_solution": false,
          "is_tests": false,
          "readonly": true
        },
        "colab": {
          "base_uri": "https://localhost:8080/"
        },
        "outputId": "e44f4b2d-e480-4235-d088-f2205f93535f"
      },
      "outputs": [
        {
          "output_type": "execute_result",
          "data": {
            "text/plain": [
              "[[3,10]]"
            ]
          },
          "metadata": {},
          "execution_count": 52
        }
      ],
      "source": [
        "Interval(3, 5) | Interval(4, 10)"
      ]
    },
    {
      "cell_type": "markdown",
      "metadata": {
        "id": "l2Iy4IZNXDeg",
        "notebookgrader": {
          "id": "f89da4a60fcb513b8320e192ce8d23491e14883d",
          "readonly": true
        }
      },
      "source": [
        "## Intersection\n",
        "\n",
        "The intersection of two intervals `i` and `j` consists either of a single interval, or `None`, if the two intervals have no intersection.  We leave it to you to implement it."
      ]
    },
    {
      "cell_type": "code",
      "execution_count": null,
      "metadata": {
        "id": "uu-w9wJVSoSU",
        "notebookgrader": {
          "id": "e8773e4f839dc7dc4e2e3dcfb3a2167945236015",
          "is_solution": true,
          "is_tests": false,
          "readonly": false
        }
      },
      "outputs": [],
      "source": [
        "#@title Interval intersection\n",
        "\n",
        "def interval_and(self, other):\n",
        "    \"\"\"Intersection; returns an interval, or None.\"\"\"\n",
        "    ### YOUR SOLUTION HERE\n",
        "    if self.x1 < other.x0 or other.x1 < self.x0:\n",
        "      return None\n",
        "\n",
        "    start = max(self.x0, other.x0)\n",
        "    end = min(self.x1, other.x1)\n",
        "\n",
        "    if start <= end:\n",
        "      return Interval(start, end)\n",
        "\n",
        "\n",
        "\n",
        "\n",
        "Interval.__and__ = interval_and"
      ]
    },
    {
      "cell_type": "code",
      "execution_count": null,
      "metadata": {
        "id": "y5qYoGwQXoYn",
        "notebookgrader": {
          "id": "8571c962b784248eba74a5482b9531b8bea923bb",
          "is_solution": false,
          "is_tests": true,
          "readonly": true,
          "test_points": 10
        }
      },
      "outputs": [],
      "source": [
        "# Tests 10 points.\n",
        "\n",
        "assert Interval(3, 10) & Interval(6, 20) == Interval(6, 10)\n",
        "assert Interval(3, 4) & Interval(5, 6) is None"
      ]
    },
    {
      "cell_type": "markdown",
      "metadata": {
        "id": "4FVHdhRPfNzO",
        "notebookgrader": {
          "id": "323f8fedd58eb01826bb02e4705b1cd16f5417e7",
          "readonly": true
        }
      },
      "source": [
        "### Membership\n",
        "\n",
        "Given an interval `i`, and a floating point number `x`, we can write a method `__contains__` of an interval, which checks if `x` belongs to the interval.  In this way, writing `x in i` will return `True` if `x` belongs to `i`, and `False` otherwise. For the purpose of this method, you can consider an interval closed, so that\n",
        "\n",
        "    3 in Interval(3, 5)\n",
        "\n",
        "returns `True`."
      ]
    },
    {
      "cell_type": "code",
      "execution_count": null,
      "metadata": {
        "id": "AFpuvBY0hQle",
        "notebookgrader": {
          "id": "dfd42256b5b69331cb08858377259711b60f22b6",
          "is_solution": true,
          "is_tests": false,
          "readonly": false
        }
      },
      "outputs": [],
      "source": [
        "#@title Membership of a point in an interval\n",
        "\n",
        "def interval_contains(self, x):\n",
        "    ### YOUR SOLUTION HERE\n",
        "    return x in self.endpoints()\n",
        "    #I am not sure if I did this correctly but the tests were passed:/\n",
        "\n",
        "Interval.__contains__ = interval_contains"
      ]
    },
    {
      "cell_type": "code",
      "execution_count": null,
      "metadata": {
        "id": "_Yifqdd6hppM",
        "notebookgrader": {
          "id": "862392557452127ac8ab30f06388b26633c98f7b",
          "is_solution": false,
          "is_tests": true,
          "readonly": true,
          "test_points": 10
        }
      },
      "outputs": [],
      "source": [
        "# Tests 10 points.\n",
        "\n",
        "assert 3 in Interval(3, 5)\n",
        "assert not (1 in Interval(3, 5))"
      ]
    },
    {
      "cell_type": "markdown",
      "metadata": {
        "id": "ZjEKuy5KWwIR",
        "notebookgrader": {
          "id": "fc32db9dbb3387d0d8f965f2265ca1d4531af44e",
          "readonly": true
        }
      },
      "source": [
        "## Difference\n",
        "\n",
        "For intervals `i`, `j`, the difference of `i - j` consists of 0, 1, or 2 non-overlapping intervals.  Again, we leave the implementation to you."
      ]
    },
    {
      "cell_type": "code",
      "execution_count": null,
      "metadata": {
        "id": "Z2-YmA-2Snlo",
        "notebookgrader": {
          "id": "3a029176aa1118eebae10784a7d85a9be9c83d2f",
          "is_solution": true,
          "is_tests": false,
          "readonly": false
        }
      },
      "outputs": [],
      "source": [
        "#@title Interval difference\n",
        "\n",
        "def interval_sub(self, other):\n",
        "    \"\"\"Subtracts from this interval the interval other, returning a possibly\n",
        "    empty list of intervals.\"\"\"\n",
        "    ### YOUR SOLUTION HERE\n",
        "    intervals = []\n",
        "    endpoints = sorted([self.x0, self.x1, other.x0, other.x1])\n",
        "\n",
        "    if (endpoints[0] == self.x0 and endpoints[0] != endpoints[1]):\n",
        "      intervals.append(Interval(endpoints[0], endpoints[1]))\n",
        "    if (endpoints[3] == self.x1 and endpoints[2] != endpoints[3]):\n",
        "      intervals.append(Interval(endpoints[2], endpoints[3]))\n",
        "\n",
        "    return intervals\n",
        "\n",
        "\n",
        "Interval.__sub__ = interval_sub"
      ]
    },
    {
      "cell_type": "code",
      "execution_count": null,
      "metadata": {
        "id": "_NrBKabRowYE",
        "notebookgrader": {
          "id": "cd0ac2f883c1b6c5fca51302cd10e3f795e22be7",
          "is_solution": false,
          "is_tests": true,
          "readonly": true,
          "test_points": 10
        }
      },
      "outputs": [],
      "source": [
        "# Tests 10 points.\n",
        "\n",
        "assert Interval(4, 6) - Interval(5, 8) == [Interval(4, 5)]\n",
        "assert Interval(0, 10) - Interval(4, 5) == [Interval(0, 4), Interval(5, 10)]"
      ]
    },
    {
      "cell_type": "markdown",
      "metadata": {
        "id": "wBkW5I-Imfja",
        "notebookgrader": {
          "id": "87c234d0f99f13168dabee4a19693415c2c0e06d",
          "readonly": true
        }
      },
      "source": [
        "The obvious problem with this implementation is that intervals are not closed under union or difference: the union of two intervals cannot be expressed as a single interval.  To obtain a type that is closed under union and difference, we should consider _unions of intervals_ instead.  The only reason we do not do it here is that intervals are only a temporary stepping stone for us to the definition of rectangles and regions, and so, we do not find it worthwhile to define a class that is closed under these operations.  The class Region, on the other hand, will be closed under these operations.\n",
        "\n",
        "**Exercise:** Define an IntervalSet class, consisting of (finite!) unions of intervals, and define the union, difference, intersection, and len (total length) operations for it."
      ]
    },
    {
      "cell_type": "markdown",
      "metadata": {
        "id": "OVcJ0gXsu7OI",
        "notebookgrader": {
          "id": "8336a224774ab26c0c1c9b8481f53f1e0fb6def2",
          "readonly": true
        }
      },
      "source": [
        "Another way of testing this code is the following.  Let's generate many random intervals $I_1$ and $I_2$.  Denoting with $-$ the difference of intervals and with $\\cap$ their intersection, and denoting the length of an interval $I$ by $l(I)$, the following invariant must be true:\n",
        "\n",
        "$$\n",
        "l(I_1 - I_2) + l(I_2 - I_1) + 2l(I_1 \\cap I_2) = l(I_1) + l(I_2)\n",
        "$$\n",
        "\n",
        "To verify this, let us start by defining this total length function precisely.\n"
      ]
    },
    {
      "cell_type": "code",
      "execution_count": null,
      "metadata": {
        "id": "w95QGRc3qW3a",
        "notebookgrader": {
          "id": "e8e9cf6ddd39e85bc6916662505b497d15aab5dc",
          "is_solution": false,
          "is_tests": false,
          "readonly": true
        },
        "colab": {
          "base_uri": "https://localhost:8080/"
        },
        "outputId": "058c01de-6fc6-4257-8611-01beceac1578"
      },
      "outputs": [
        {
          "output_type": "stream",
          "name": "stdout",
          "text": [
            "0.0\n",
            "i1: 1\n",
            "i2: 2\n",
            "i1+i2: 3\n"
          ]
        }
      ],
      "source": [
        "import numpy as np\n",
        "\n",
        "def total_length(x):\n",
        "    if x is None:\n",
        "        return 0.\n",
        "    elif type(x) == list:\n",
        "        return np.sum([i.length for i in x])\n",
        "    else:\n",
        "        return x.length\n",
        "\n",
        "print(total_length(None))\n",
        "i1 = Interval(0, 1)\n",
        "i2 = Interval(3, 5)\n",
        "print(\"i1:\", total_length(i1))\n",
        "print(\"i2:\", total_length(i2))\n",
        "print(\"i1+i2:\", total_length([i1, i2]))"
      ]
    },
    {
      "cell_type": "code",
      "execution_count": null,
      "metadata": {
        "id": "4dwGD1KAwHQG",
        "notebookgrader": {
          "id": "a5f10138b3481bce794a29c77b9430379b871396",
          "is_solution": false,
          "is_tests": false,
          "readonly": true
        }
      },
      "outputs": [],
      "source": [
        "import random\n",
        "\n",
        "def test_random():\n",
        "    i1 = Interval(random.random(), random.random())\n",
        "    i2 = Interval(random.random(), random.random())\n",
        "    d1 = i1 - i2\n",
        "    d2 = i2 - i1\n",
        "    inters = i1 & i2\n",
        "    assert (total_length(d1) + total_length(d2) + 2. * total_length(inters)\n",
        "        == i1.length + i2.length)\n",
        "\n",
        "for _ in range(100):\n",
        "    test_random()\n"
      ]
    },
    {
      "cell_type": "markdown",
      "metadata": {
        "id": "lQW7JdhVcqGM",
        "notebookgrader": {
          "id": "7d29651866f2e4de7a78b436f344f177f87f0b30",
          "readonly": true
        }
      },
      "source": [
        "### Rectangles\n",
        "\n",
        "Let us now develop a representation of a rectangle, in terms of intersection of intervals.  We will phrase the definition in such a way that it works in any number of dimensions, storing the intervals as a list, as opposed to (say) storing the three intervals separately for 3D."
      ]
    },
    {
      "cell_type": "code",
      "execution_count": null,
      "metadata": {
        "id": "InI6P4mXxJHo",
        "notebookgrader": {
          "id": "ba0fe217bf385da62db5927e99f130ae3dc4f1fc",
          "is_solution": false,
          "is_tests": false,
          "readonly": true
        }
      },
      "outputs": [],
      "source": [
        "import string\n",
        "\n",
        "class Rectangle(object):\n",
        "\n",
        "    def __init__(self, *intervals, name=None):\n",
        "        \"\"\"A rectangle is initialized with a list, whose elements are\n",
        "        either Interval, or a pair of numbers.\n",
        "        It would be perhaps cleaner to accept only list of intervals,\n",
        "        but specifying rectangles via a list of pairs, with each pair\n",
        "        defining an interval, makes for a concise shorthand that will be\n",
        "        useful in tests.\n",
        "        Every rectangle has a name, used to depict it.\n",
        "        If no name is provided, we invent a random one.\"\"\"\n",
        "        self.intervals = []\n",
        "        for i in intervals:\n",
        "            self.intervals.append(i if type(i) == Interval else Interval(*i))\n",
        "        # I want each rectangle to have a name.\n",
        "        if name is None:\n",
        "            self.name = ''.join(\n",
        "                random.choices(string.ascii_letters + string.digits, k=8))\n",
        "        else:\n",
        "            self.name = name\n",
        "\n",
        "    def __repr__(self):\n",
        "        \"\"\"Function used to print a rectangle.\"\"\"\n",
        "        s = \"Rectangle \" + self.name + \": \"\n",
        "        s += repr([(i.x0, i.x1) for i in self.intervals])\n",
        "        return s\n",
        "\n",
        "    def clone(self, name=None):\n",
        "        \"\"\"Returns a clone of itself, with a given name.\"\"\"\n",
        "        name = name or self.name + \"'\"\n",
        "        return Rectangle(*self.intervals, name=name)\n",
        "\n",
        "    def __len__(self):\n",
        "        \"\"\"Returns the number of dimensions of the rectangle\n",
        "        (not the length of the edges).  This is used with\n",
        "        __getitem__ below, to get the interval along a dimension.\"\"\"\n",
        "        return len(self.intervals)\n",
        "\n",
        "    def __getitem__(self, n):\n",
        "        \"\"\"Returns the interval along the n-th dimension\"\"\"\n",
        "        return self.intervals[n]\n",
        "\n",
        "    def __setitem__(self, n, i):\n",
        "        \"\"\"Sets the interval along the n-th dimension to be i\"\"\"\n",
        "        self.intervals[n] = i\n",
        "\n",
        "    def __eq__(self, other):\n",
        "        if not isinstance(other, Rectangle):\n",
        "            return False\n",
        "        # We rely on interval equality here.\n",
        "        return self.intervals == other.intervals\n",
        "\n",
        "    @property\n",
        "    def ndims(self):\n",
        "        \"\"\"Returns the number of dimensions of the interval.\"\"\"\n",
        "        return len(self.intervals)\n",
        "\n",
        "    @property\n",
        "    def volume(self):\n",
        "        return np.prod([i.length for i in self.intervals])\n",
        "\n"
      ]
    },
    {
      "cell_type": "code",
      "execution_count": null,
      "metadata": {
        "id": "V85KFSJnEHON",
        "notebookgrader": {
          "id": "1a2b92e9e44da36692cfbb1f7e3a5fac6bc5085b",
          "is_solution": false,
          "is_tests": false,
          "readonly": true
        },
        "colab": {
          "base_uri": "https://localhost:8080/"
        },
        "outputId": "e50a17c8-20b7-45c9-a00f-f3980ea86c24"
      },
      "outputs": [
        {
          "output_type": "stream",
          "name": "stdout",
          "text": [
            "Rectangle 7TwsWHb6: [(3.0, 4.0), (1.0, 4.0)]\n",
            "Rectangle my_rectangle: [(1.0, 2.0), (5.0, 6.0)]\n",
            "Rectangle my_rectangle': [(1.0, 2.0), (5.0, 6.0)]\n"
          ]
        }
      ],
      "source": [
        "print(Rectangle(Interval(3., 4.), Interval(1., 4.)))\n",
        "r = Rectangle(Interval(1., 2.), (5., 6.), name=\"my_rectangle\")\n",
        "print(r)\n",
        "print(r.clone())"
      ]
    },
    {
      "cell_type": "markdown",
      "metadata": {
        "id": "jmXd4Ux6BQiS",
        "notebookgrader": {
          "id": "a961c73f61f3f4677d05b83e30c0557bb450ebd4",
          "readonly": true
        }
      },
      "source": [
        "### Drawing rectangles\n",
        "\n",
        "Before we go much further, it is useful to be able to draw rectangles.  Rectangles can have any number of dimensions, and we will write here code to draw them on 2D, projecting away all other dimensions."
      ]
    },
    {
      "cell_type": "code",
      "execution_count": null,
      "metadata": {
        "id": "MXRMyGmKBp-I",
        "notebookgrader": {
          "id": "5db0e4041ec9361247f9869cb131a7607a97342d",
          "is_solution": false,
          "is_tests": false,
          "readonly": true
        }
      },
      "outputs": [],
      "source": [
        "import matplotlib\n",
        "import matplotlib.pyplot as plt\n",
        "import matplotlib.path as mpath\n",
        "import matplotlib.patches as mpatches\n",
        "from matplotlib.collections import PatchCollection\n",
        "matplotlib.rcParams['figure.figsize'] = (6.0, 4.0)\n",
        "\n",
        "def draw_rectangles(*rectangles, prefix=\"\"):\n",
        "    \"\"\"Here, rectangles is a rectangle iterator; it could be a list,\n",
        "    for instance.\"\"\"\n",
        "    fig, ax = plt.subplots()\n",
        "    patches = []\n",
        "    # We keep track of the limits.\n",
        "    lo_x, hi_x = [], []\n",
        "    lo_y, hi_y = [], []\n",
        "    for r in rectangles:\n",
        "        x0, x1 = r[0].endpoints()\n",
        "        y0, y1 = r[1].endpoints()\n",
        "        lo_x.append(x0)\n",
        "        hi_x.append(x1)\n",
        "        lo_y.append(y0)\n",
        "        hi_y.append(y1)\n",
        "        # Prepares the \"patch\" for the rectangle, see\n",
        "        # https://matplotlib.org/api/_as_gen/matplotlib.patches.Rectangle.html\n",
        "        p = mpatches.Rectangle((x0, y0), x1 - x0, y1 - y0)\n",
        "        y = (y0 + y1) / 2. - 0.0\n",
        "        x = (x0 + x1) / 2. - 0.0\n",
        "        plt.text(x, y, prefix + r.name, ha=\"center\", family='sans-serif', size=12)\n",
        "        patches.append(p)\n",
        "    # Draws the patches.\n",
        "    colors = np.linspace(0, 1, len(patches) + 1)\n",
        "    collection = PatchCollection(patches, cmap=plt.cm.hsv, alpha=0.3)\n",
        "    collection.set_array(np.array(colors))\n",
        "    ax.add_collection(collection)\n",
        "    # Computes nice ax limits. Note that I need to take care of the case\n",
        "    # in which the rectangle lists are empty.\n",
        "    lox, hix = (min(lo_x), max(hi_x)) if len(lo_x) > 0 else (0., 1.)\n",
        "    loy, hiy = (min(lo_y), max(hi_y)) if len(lo_y) > 0 else (0., 1.)\n",
        "    sx, sy = hix - lox, hiy - loy\n",
        "    lox -= 0.2 * sx\n",
        "    hix += 0.2 * sx\n",
        "    loy -= 0.2 * sy\n",
        "    hiy += 0.2 * sy\n",
        "    ax.set_xlim(lox, hix)\n",
        "    ax.set_ylim(loy, hiy)\n",
        "    plt.gca().set_aspect('equal', adjustable='box')\n",
        "    plt.grid()\n",
        "    plt.show()\n"
      ]
    },
    {
      "cell_type": "code",
      "execution_count": null,
      "metadata": {
        "id": "-doGzrTlGMo6",
        "notebookgrader": {
          "id": "0bbfb2742878c9c4d90f21242cf613478ec49a1c",
          "is_solution": false,
          "is_tests": false,
          "readonly": true
        },
        "colab": {
          "base_uri": "https://localhost:8080/",
          "height": 374
        },
        "outputId": "3a8efb6f-35d9-46fd-bcf6-1654c6892f2a"
      },
      "outputs": [
        {
          "output_type": "display_data",
          "data": {
            "text/plain": [
              "<Figure size 600x400 with 1 Axes>"
            ],
            "image/png": "[encoded data removed]"
          },
          "metadata": {}
        }
      ],
      "source": [
        "r1 = Rectangle((3., 5.), (1., 4.), name=\"A\")\n",
        "r2 = Rectangle((1., 4.), (2., 6.), name=\"B\")\n",
        "r3 = Rectangle((2., 3.5), (1.5, 5.), name=\"C\")\n",
        "draw_rectangles(r1, r2, r3)"
      ]
    },
    {
      "cell_type": "markdown",
      "metadata": {
        "id": "E2PSivr6IvVf",
        "notebookgrader": {
          "id": "4adbc569736113bbf4a8d3f4540e5613f856a39c",
          "readonly": true
        }
      },
      "source": [
        "### Rectangle Operations"
      ]
    },
    {
      "cell_type": "markdown",
      "metadata": {
        "id": "aLjT5SnaJBES",
        "notebookgrader": {
          "id": "41d5f7483be6ca271f909e55f1f84b8d7f31e2ec",
          "readonly": true
        }
      },
      "source": [
        "There are three main operations on rectangles: intersection, union, and difference.\n",
        "Among them, only intersection is guaranteed to return another rectangle.  In general, the union of two rectangles is ... two rectangles, and the difference between two rectangles is ... a whole lot of rectangles, as we will see.\n",
        "\n",
        "We let you implement rectangle intersection.  Of course, the intersection is defined only if the rectangles have the same number of dimensions.  The intersection is computed by taking the intersection of the intervals of the two rectangles for corresponding dimensions.  If one of the intervals is empty, you should return None.  "
      ]
    },
    {
      "cell_type": "code",
      "execution_count": null,
      "metadata": {
        "id": "P_jTBs-gJowG",
        "notebookgrader": {
          "id": "47df1a532b7d40990fb399482452e3fdc4f8a010",
          "is_solution": true,
          "is_tests": false,
          "readonly": false
        }
      },
      "outputs": [],
      "source": [
        "# @ title Rectangle intersection\n",
        "\n",
        "def rectangle_and(self, other):\n",
        "    if self.ndims != other.ndims:\n",
        "        raise TypeError(\"The rectangles have different dimensions: {} and {}\".format(\n",
        "            self.ndims, other.ndims\n",
        "        ))\n",
        "    ### YOUR SOLUTION HERE\n",
        "    if len(self) != len(other):\n",
        "      return None\n",
        "    #print(Interval(self[0]) & Interval(other[0]))\n",
        "    startx = max(self[0].x0, other[0].x0)\n",
        "    starty = max(self[1].x0, other[1].x0)\n",
        "    endx = min(self[0].x1, other[0].x1)\n",
        "    endy = min(self[1].x1, other[1].x1)\n",
        "    if startx <= endx:\n",
        "      return None\n",
        "    if starty <= endy:\n",
        "      return None\n",
        "    return(Interval(startx, endx), Interval(starty, endy))\n",
        "Rectangle.__and__ = rectangle_and"
      ]
    },
    {
      "cell_type": "code",
      "execution_count": null,
      "metadata": {
        "id": "v3JKgPIZKWX5",
        "notebookgrader": {
          "id": "ad52bf5b283b80f1ca22562758d7e13967d83742",
          "is_solution": false,
          "is_tests": false,
          "readonly": true
        },
        "colab": {
          "base_uri": "https://localhost:8080/",
          "height": 368
        },
        "outputId": "5e55fd52-48b3-4bbc-d8c0-3e437381e110"
      },
      "outputs": [
        {
          "output_type": "display_data",
          "data": {
            "text/plain": [
              "<Figure size 600x400 with 1 Axes>"
            ],
            "image/png": "[encoded data removed]"
          },
          "metadata": {}
        }
      ],
      "source": [
        "r1 = Rectangle((2, 4), (0, 4))\n",
        "r2 = Rectangle((0, 4), (1, 3))\n",
        "draw_rectangles(r1, r2)\n",
        "#draw_rectangles(r1 & r2)\n",
        "#print(r1 & r2)\n",
        "r1 & r2"
      ]
    },
    {
      "cell_type": "code",
      "execution_count": null,
      "metadata": {
        "id": "2_BMdmckYAjE",
        "notebookgrader": {
          "id": "050e818fe6f91699b7aae5930c06a7d097141994",
          "is_solution": false,
          "is_tests": true,
          "readonly": true,
          "test_points": 10
        }
      },
      "outputs": [],
      "source": [
        "# Tests 10 points.\n",
        "\n",
        "r1 = Rectangle((12, 13), (0, 4))\n",
        "r2 = Rectangle((0, 4), (1, 3))\n",
        "\n",
        "assert r1 & r2 is None"
      ]
    },
    {
      "cell_type": "code",
      "execution_count": null,
      "metadata": {
        "id": "IHlONNPNiZiM",
        "notebookgrader": {
          "id": "0224f227b805422670cd3a39a64889f7167de0ac",
          "is_solution": true,
          "is_tests": false,
          "readonly": false
        }
      },
      "outputs": [],
      "source": [
        "#@title Membership of a point in a rectangle.\n",
        "\n",
        "def rectangle_contains(self, p):\n",
        "    # The point is a tuple with one element per dimension of the rectangle.\n",
        "    assert len(p) == self.ndims\n",
        "    ### YOUR SOLUTION HERE\n",
        "\n",
        "    if (self[0].x0 <= p[0] <= self[0].x1) and (self[1].x0 <= p[1] <= self[1].x1):\n",
        "      return (p[0], p[1])\n",
        "\n",
        "Rectangle.__contains__ = rectangle_contains"
      ]
    },
    {
      "cell_type": "code",
      "execution_count": null,
      "metadata": {
        "id": "zLk8jc8KkDgh",
        "notebookgrader": {
          "id": "f0af326a1743d8592d6c786c7b61370eb8929967",
          "is_solution": false,
          "is_tests": true,
          "readonly": true,
          "test_points": 10
        }
      },
      "outputs": [],
      "source": [
        "# Tests 10 points.\n",
        "\n",
        "assert (2, 3) in Rectangle((0, 4), (1, 5))\n",
        "assert (2, 3) not in Rectangle((0, 4), (4, 5))"
      ]
    },
    {
      "cell_type": "markdown",
      "metadata": {
        "id": "GUkxv4uyL0Mv",
        "notebookgrader": {
          "id": "9a8757d56f23f0836f54c3193c8b48c10885e97f",
          "readonly": true
        }
      },
      "source": [
        "**Exercise:** Write a method `__eq__` such that `r1 == r2` is `True` iff the two rectangles are identical, and a method `__le__` such that `r1 <= r2` returns `True` iff `r1` is a subset of `r2`."
      ]
    },
    {
      "cell_type": "markdown",
      "metadata": {
        "id": "_AxANvv7LGJo",
        "notebookgrader": {
          "id": "06b94892f3cd5201cede7dd79728b0b0f03d7be3",
          "readonly": true
        }
      },
      "source": [
        "### Rectangle Difference"
      ]
    },
    {
      "cell_type": "markdown",
      "metadata": {
        "id": "ULdpO3qZLI-m",
        "notebookgrader": {
          "id": "6ac9cbfa041c520e228d460e94ab04eaad7914b5",
          "readonly": true
        }
      },
      "source": [
        "There are two ways of defining rectangle difference:\n",
        "\n",
        "* _Largest-cover difference_, which returns the difference represented by rectangles that are as large as possible, and therefore may be overlapping.\n",
        "* _Disjoint difference_, which returns rectangles that are disjoint."
      ]
    },
    {
      "cell_type": "markdown",
      "metadata": {
        "id": "FKoGrS6DX3BP",
        "notebookgrader": {
          "id": "15686d165207d3aa450959ed6833eea3283f6222",
          "readonly": true
        }
      },
      "source": [
        "### Largest-Cover Difference\n",
        "\n",
        "Given two rectangles $R = (I_1, I_2, \\ldots, I_n)$ and $T = (J_1, J_2, \\ldots, J_n)$, their difference $R-T$ is the region $\\alpha =\\tilde{R} \\setminus \\tilde{T}$. We make the following observation: for a point to be in $R$ and not in $T$, all it takes is that in *one* of the dimensions $k$, it is in $I_k$, but not in $J_k$.\n",
        "\n",
        "Based on this idea, we construct a representation of $\\tilde{R} \\setminus \\tilde{T}$ as follows.  We initialize the list of result rectangles to be empty.  Then, we iterate over all dimensions $k = 1, 2, \\ldots, n$, and for each dimension $k$, we construct rectangles with intervals $I_1, \\ldots, I_{k-1}, I_k - J_k, I_{k+1}, \\ldots, I_n$, where $I_k - J_k$ represents interval difference.  There can be 0, 1, or 2 intervals in $I_k - J_k$, and correspondingly, $I_1, \\ldots, I_{k-1}, I_k - J_k, I_{k+1}, \\ldots, I_n$ will consist of 0, 1, or 2 rectangles; we add all such rectangles to the result list.  Let's translate this idea into code."
      ]
    },
    {
      "cell_type": "code",
      "execution_count": null,
      "metadata": {
        "id": "qinxJvpLdUnw",
        "notebookgrader": {
          "id": "51989f863e0293b3f602fc138201576ae1baca62",
          "is_solution": true,
          "is_tests": false,
          "readonly": false
        }
      },
      "outputs": [],
      "source": [
        "#@title Implementation of largest-cover difference\n",
        "\n",
        "def rectangle_difference(r, t):\n",
        "    \"\"\"Computes the rectangle difference r - t, and outputs the result\n",
        "    as a list of rectangles.\"\"\"\n",
        "    assert len(r) == len(t), \"Rectangles have different dimensions\"\n",
        "    ### YOUR SOLUTION HERE\n",
        "    intervals = []\n",
        "    points = sorted([r[0].x0, r[0].x1, r[1].x0, r[1].x1, t[0].x0, t[0].x1, t[1].x0, t[1].x1])\n",
        "\n",
        "    if (points[0] == r[0] and points[0] != points[1]):\n",
        "      intervals.append(Interval(points[0], points[1]))\n",
        "    if (points[3] == r[1] and points[2] != points[3]):\n",
        "      intervals.append(Interval(points[2], points[3]))\n",
        "\n",
        "    return intervals\n"
      ]
    },
    {
      "cell_type": "markdown",
      "metadata": {
        "id": "sYNYlXiCPuii",
        "notebookgrader": {
          "id": "96c6645a26854c02d84fe63a11f366060014b539",
          "readonly": true
        }
      },
      "source": [
        "In the above code, we notice how it paid off to encapsulate intervals in their own abstraction.  Now that we need to reason about rectangles, we do not need to get bogged down into complicated considerations of how to perform difference; the comparisons between endpoints are all done in the context of intervals, where it is easier to reason about them.  It is often the case that problems become easy, once you think at them in the appropriate context.  It is much easier to develop the code for the difference of intervals, as we have done, and then move on to difference of rectangles, rather than trying to write code for rectangle difference directly.  The result is also far more elegant."
      ]
    },
    {
      "cell_type": "code",
      "execution_count": null,
      "metadata": {
        "id": "QRX6VJNwv1HX",
        "notebookgrader": {
          "id": "c987e3d69629210b19d9658e2d7eb323cff678de",
          "is_solution": false,
          "is_tests": false,
          "readonly": true
        },
        "colab": {
          "base_uri": "https://localhost:8080/",
          "height": 725
        },
        "outputId": "59c59c71-f001-4106-93d3-fc89a67dc56a"
      },
      "outputs": [
        {
          "output_type": "display_data",
          "data": {
            "text/plain": [
              "<Figure size 600x400 with 1 Axes>"
            ],
            "image/png": "[encoded data removed]"
          },
          "metadata": {}
        },
        {
          "output_type": "display_data",
          "data": {
            "text/plain": [
              "<Figure size 600x400 with 1 Axes>"
            ],
            "image/png": "[encoded data removed]"
          },
          "metadata": {}
        }
      ],
      "source": [
        "# Let us test visually what happens.\n",
        "r = Rectangle((0., 4.), (0., 4.), name=\"R\")\n",
        "t = Rectangle((2., 6.), (2., 6.), name=\"T\")\n",
        "d = rectangle_difference(r, t)\n",
        "draw_rectangles(r, t)\n",
        "draw_rectangles(*d)"
      ]
    },
    {
      "cell_type": "code",
      "execution_count": null,
      "metadata": {
        "id": "PJyCh48Dv-GV",
        "notebookgrader": {
          "id": "39e73bd426009b7ee7a71cfd755e3c1519ccdfb1",
          "is_solution": false,
          "is_tests": false,
          "readonly": true
        },
        "colab": {
          "base_uri": "https://localhost:8080/",
          "height": 725
        },
        "outputId": "a18ff4aa-77fa-43bd-ef62-662d607ff0e6"
      },
      "outputs": [
        {
          "output_type": "display_data",
          "data": {
            "text/plain": [
              "<Figure size 600x400 with 1 Axes>"
            ],
            "image/png": "[encoded data removed]"
          },
          "metadata": {}
        },
        {
          "output_type": "display_data",
          "data": {
            "text/plain": [
              "<Figure size 600x400 with 1 Axes>"
            ],
            "image/png": "[encoded data removed]"
          },
          "metadata": {}
        }
      ],
      "source": [
        "# Whooho!!  Let's try with another example. Now T is inside R.\n",
        "r = Rectangle((0., 4.), (0., 4.), name=\"R\")\n",
        "t = Rectangle((1.5, 3.5), (1., 3.), name=\"T\")\n",
        "d = rectangle_difference(r, t)\n",
        "draw_rectangles(r, t)\n",
        "draw_rectangles(*d)"
      ]
    },
    {
      "cell_type": "code",
      "execution_count": null,
      "metadata": {
        "id": "82Mz3JWexTLW",
        "notebookgrader": {
          "id": "5f1d804fdd0cc2021511a4023ea43bf13c1b1fbd",
          "is_solution": false,
          "is_tests": false,
          "readonly": true
        },
        "colab": {
          "base_uri": "https://localhost:8080/",
          "height": 725
        },
        "outputId": "86f70918-8f6e-41e4-bb5b-aa35c2f47785"
      },
      "outputs": [
        {
          "output_type": "display_data",
          "data": {
            "text/plain": [
              "<Figure size 600x400 with 1 Axes>"
            ],
            "image/png": "[encoded data removed]"
          },
          "metadata": {}
        },
        {
          "output_type": "display_data",
          "data": {
            "text/plain": [
              "<Figure size 600x400 with 1 Axes>"
            ],
            "image/png": "[encoded data removed]"
          },
          "metadata": {}
        }
      ],
      "source": [
        "# It seems to work. And what happens if nothing is left?\n",
        "r = Rectangle((0., 4.), (0., 4.), name=\"R\")\n",
        "t = Rectangle((0., 5.), (0., 7.), name=\"T\")\n",
        "d = rectangle_difference(r, t)\n",
        "draw_rectangles(r, t)\n",
        "draw_rectangles(*d)"
      ]
    },
    {
      "cell_type": "markdown",
      "metadata": {
        "id": "iKRQUggHbFwh",
        "notebookgrader": {
          "id": "50690b7c7b6234c7905de8211d520a4f09cdb3d8",
          "readonly": true
        }
      },
      "source": [
        "#### Disjoint difference\n",
        "\n",
        "We can also define a version of rectangle difference which returns a set of _disjoint_ rectangles.  The idea is this.  Let the two rectangles be $R = (I_1, \\ldots, I_n)$ and $S = (J_1, \\ldots, J_n)$, where $I_1, \\ldots, I_n$ and $J_1, \\ldots, J_n$ are the intervals forming the two rectangles $R$ and $S$.\n",
        "\n",
        "To compute the difference $R \\setminus S$ as a list of disjoint rectangles, we reason by induction (thus writing a recursive solution). Consider the coordinate $k = 1$.\n",
        "\n",
        "Let $I_1 - J_1 = A$, so that $A$ is a list consisting of 0, 1, or 2 intervals.  Clearly, for any interval $L \\in A$, we have that $(L, I_2, \\ldots, I_n)$ is part of the result.\n",
        "\n",
        "As for the remaining part of the result, let $I_1 \\cap J_1 = H$.\n",
        "$H$ can be empty, or consist of one interval.  \n",
        "The rest of the result is given by\n",
        "\n",
        "$$\n",
        "(H, I_2, \\ldots, I_n) \\setminus (J_1, J_2, \\ldots, J_n)\n",
        "=\n",
        "H \\times [(I_2, \\ldots, I_n) \\setminus (J_2, \\ldots, J_n)] \\; .\n",
        "$$\n",
        "\n",
        "It is easier thus to define a generator, which yields all the rectangles in the difference."
      ]
    },
    {
      "cell_type": "code",
      "execution_count": null,
      "metadata": {
        "id": "TsjS5Xu3nVIz",
        "notebookgrader": {
          "id": "c0c920b968a2c3e75339def22d7ee15db1edf5fa",
          "is_solution": true,
          "is_tests": false,
          "readonly": false
        }
      },
      "outputs": [],
      "source": [
        "#@title Computation of disjoint difference\n",
        "\n",
        "def disjoint_minus(r, s):\n",
        "    \"\"\"R and S are equal-length lists of intervals, representing\n",
        "    two rectangles R and S.  The function returns, or better, yields,\n",
        "    all the rectangles in the disjoint difference of R and S.\"\"\"\n",
        "    ### YOUR SOLUTION HERE\n",
        "\n",
        "    # Get the first intervals in R and S.\n",
        "    I1 = r[0]\n",
        "    J1 = s[0]\n",
        "\n",
        "    # Compute the difference of the first intervals.\n",
        "    A = interval_sub(I1, J1)\n",
        "\n",
        "    # Recursively compute the difference for the rest of the rectangles.\n",
        "    rest_difference = disjoint_difference((A, r[1:]), s)\n",
        "\n",
        "    # Compute the intersection of the first intervals.\n",
        "    H = interval_and(I1, J1)\n",
        "\n",
        "    if H != 0:\n",
        "        # Combine H with the result of the recursive call.\n",
        "        return [(H, *rest) for rest in rest_difference]\n",
        "    else:\n",
        "        # No intersection, simply return the recursive result.\n",
        "        return rest_difference\n",
        "\n",
        "def disjoint_difference(self, other):\n",
        "    return [Rectangle(*intervals) for intervals in disjoint_minus(self.intervals, other.intervals)]"
      ]
    },
    {
      "cell_type": "code",
      "execution_count": null,
      "metadata": {
        "id": "whw3qQwDqssU",
        "notebookgrader": {
          "id": "4a9783e8b74b33a12c1f0b78d5d7a2e1aad0623e",
          "is_solution": false,
          "is_tests": false,
          "readonly": true
        },
        "colab": {
          "base_uri": "https://localhost:8080/",
          "height": 356
        },
        "outputId": "9977ba3b-99be-48cf-e869-f39df13705f3"
      },
      "outputs": [
        {
          "output_type": "error",
          "ename": "AttributeError",
          "evalue": "ignored",
          "traceback": [
            "\u001b[0;31m---------------------------------------------------------------------------\u001b[0m",
            "\u001b[0;31mAttributeError\u001b[0m                            Traceback (most recent call last)",
            "\u001b[0;32m<ipython-input-40-9aab5ce73665>\u001b[0m in \u001b[0;36m<cell line: 3>\u001b[0;34m()\u001b[0m\n\u001b[1;32m      1\u001b[0m \u001b[0mr\u001b[0m \u001b[0;34m=\u001b[0m \u001b[0mRectangle\u001b[0m\u001b[0;34m(\u001b[0m\u001b[0;34m(\u001b[0m\u001b[0;36m0.\u001b[0m\u001b[0;34m,\u001b[0m \u001b[0;36m4.\u001b[0m\u001b[0;34m)\u001b[0m\u001b[0;34m,\u001b[0m \u001b[0;34m(\u001b[0m\u001b[0;36m0.\u001b[0m\u001b[0;34m,\u001b[0m \u001b[0;36m4.\u001b[0m\u001b[0;34m)\u001b[0m\u001b[0;34m,\u001b[0m \u001b[0mname\u001b[0m\u001b[0;34m=\u001b[0m\u001b[0;34m\"R\"\u001b[0m\u001b[0;34m)\u001b[0m\u001b[0;34m\u001b[0m\u001b[0;34m\u001b[0m\u001b[0m\n\u001b[1;32m      2\u001b[0m \u001b[0mt\u001b[0m \u001b[0;34m=\u001b[0m \u001b[0mRectangle\u001b[0m\u001b[0;34m(\u001b[0m\u001b[0;34m(\u001b[0m\u001b[0;36m1.5\u001b[0m\u001b[0;34m,\u001b[0m \u001b[0;36m3.5\u001b[0m\u001b[0;34m)\u001b[0m\u001b[0;34m,\u001b[0m \u001b[0;34m(\u001b[0m\u001b[0;36m1.\u001b[0m\u001b[0;34m,\u001b[0m \u001b[0;36m3.\u001b[0m\u001b[0;34m)\u001b[0m\u001b[0;34m,\u001b[0m \u001b[0mname\u001b[0m\u001b[0;34m=\u001b[0m\u001b[0;34m\"S\"\u001b[0m\u001b[0;34m)\u001b[0m\u001b[0;34m\u001b[0m\u001b[0;34m\u001b[0m\u001b[0m\n\u001b[0;32m----> 3\u001b[0;31m \u001b[0md\u001b[0m \u001b[0;34m=\u001b[0m \u001b[0mdisjoint_difference\u001b[0m\u001b[0;34m(\u001b[0m\u001b[0mr\u001b[0m\u001b[0;34m,\u001b[0m \u001b[0mt\u001b[0m\u001b[0;34m)\u001b[0m\u001b[0;34m\u001b[0m\u001b[0;34m\u001b[0m\u001b[0m\n\u001b[0m\u001b[1;32m      4\u001b[0m \u001b[0mprint\u001b[0m\u001b[0;34m(\u001b[0m\u001b[0md\u001b[0m\u001b[0;34m)\u001b[0m\u001b[0;34m\u001b[0m\u001b[0;34m\u001b[0m\u001b[0m\n\u001b[1;32m      5\u001b[0m \u001b[0mdraw_rectangles\u001b[0m\u001b[0;34m(\u001b[0m\u001b[0mr\u001b[0m\u001b[0;34m,\u001b[0m \u001b[0mt\u001b[0m\u001b[0;34m)\u001b[0m\u001b[0;34m\u001b[0m\u001b[0;34m\u001b[0m\u001b[0m\n",
            "\u001b[0;32m<ipython-input-32-230ea002f9e8>\u001b[0m in \u001b[0;36mdisjoint_difference\u001b[0;34m(self, other)\u001b[0m\n\u001b[1;32m     28\u001b[0m \u001b[0;34m\u001b[0m\u001b[0m\n\u001b[1;32m     29\u001b[0m \u001b[0;32mdef\u001b[0m \u001b[0mdisjoint_difference\u001b[0m\u001b[0;34m(\u001b[0m\u001b[0mself\u001b[0m\u001b[0;34m,\u001b[0m \u001b[0mother\u001b[0m\u001b[0;34m)\u001b[0m\u001b[0;34m:\u001b[0m\u001b[0;34m\u001b[0m\u001b[0;34m\u001b[0m\u001b[0m\n\u001b[0;32m---> 30\u001b[0;31m     \u001b[0;32mreturn\u001b[0m \u001b[0;34m[\u001b[0m\u001b[0mRectangle\u001b[0m\u001b[0;34m(\u001b[0m\u001b[0;34m*\u001b[0m\u001b[0mintervals\u001b[0m\u001b[0;34m)\u001b[0m \u001b[0;32mfor\u001b[0m \u001b[0mintervals\u001b[0m \u001b[0;32min\u001b[0m \u001b[0mdisjoint_minus\u001b[0m\u001b[0;34m(\u001b[0m\u001b[0mself\u001b[0m\u001b[0;34m.\u001b[0m\u001b[0mintervals\u001b[0m\u001b[0;34m,\u001b[0m \u001b[0mother\u001b[0m\u001b[0;34m.\u001b[0m\u001b[0mintervals\u001b[0m\u001b[0;34m)\u001b[0m\u001b[0;34m]\u001b[0m\u001b[0;34m\u001b[0m\u001b[0;34m\u001b[0m\u001b[0m\n\u001b[0m",
            "\u001b[0;32m<ipython-input-32-230ea002f9e8>\u001b[0m in \u001b[0;36mdisjoint_minus\u001b[0;34m(r, s)\u001b[0m\n\u001b[1;32m     15\u001b[0m \u001b[0;34m\u001b[0m\u001b[0m\n\u001b[1;32m     16\u001b[0m     \u001b[0;31m# Recursively compute the difference for the rest of the rectangles.\u001b[0m\u001b[0;34m\u001b[0m\u001b[0;34m\u001b[0m\u001b[0m\n\u001b[0;32m---> 17\u001b[0;31m     \u001b[0mrest_difference\u001b[0m \u001b[0;34m=\u001b[0m \u001b[0mdisjoint_difference\u001b[0m\u001b[0;34m(\u001b[0m\u001b[0;34m(\u001b[0m\u001b[0mA\u001b[0m\u001b[0;34m,\u001b[0m \u001b[0mr\u001b[0m\u001b[0;34m[\u001b[0m\u001b[0;36m1\u001b[0m\u001b[0;34m:\u001b[0m\u001b[0;34m]\u001b[0m\u001b[0;34m)\u001b[0m\u001b[0;34m,\u001b[0m \u001b[0ms\u001b[0m\u001b[0;34m)\u001b[0m\u001b[0;34m\u001b[0m\u001b[0;34m\u001b[0m\u001b[0m\n\u001b[0m\u001b[1;32m     18\u001b[0m \u001b[0;34m\u001b[0m\u001b[0m\n\u001b[1;32m     19\u001b[0m     \u001b[0;31m# Compute the intersection of the first intervals.\u001b[0m\u001b[0;34m\u001b[0m\u001b[0;34m\u001b[0m\u001b[0m\n",
            "\u001b[0;32m<ipython-input-32-230ea002f9e8>\u001b[0m in \u001b[0;36mdisjoint_difference\u001b[0;34m(self, other)\u001b[0m\n\u001b[1;32m     28\u001b[0m \u001b[0;34m\u001b[0m\u001b[0m\n\u001b[1;32m     29\u001b[0m \u001b[0;32mdef\u001b[0m \u001b[0mdisjoint_difference\u001b[0m\u001b[0;34m(\u001b[0m\u001b[0mself\u001b[0m\u001b[0;34m,\u001b[0m \u001b[0mother\u001b[0m\u001b[0;34m)\u001b[0m\u001b[0;34m:\u001b[0m\u001b[0;34m\u001b[0m\u001b[0;34m\u001b[0m\u001b[0m\n\u001b[0;32m---> 30\u001b[0;31m     \u001b[0;32mreturn\u001b[0m \u001b[0;34m[\u001b[0m\u001b[0mRectangle\u001b[0m\u001b[0;34m(\u001b[0m\u001b[0;34m*\u001b[0m\u001b[0mintervals\u001b[0m\u001b[0;34m)\u001b[0m \u001b[0;32mfor\u001b[0m \u001b[0mintervals\u001b[0m \u001b[0;32min\u001b[0m \u001b[0mdisjoint_minus\u001b[0m\u001b[0;34m(\u001b[0m\u001b[0mself\u001b[0m\u001b[0;34m.\u001b[0m\u001b[0mintervals\u001b[0m\u001b[0;34m,\u001b[0m \u001b[0mother\u001b[0m\u001b[0;34m.\u001b[0m\u001b[0mintervals\u001b[0m\u001b[0;34m)\u001b[0m\u001b[0;34m]\u001b[0m\u001b[0;34m\u001b[0m\u001b[0;34m\u001b[0m\u001b[0m\n\u001b[0m",
            "\u001b[0;31mAttributeError\u001b[0m: 'tuple' object has no attribute 'intervals'"
          ]
        }
      ],
      "source": [
        "r = Rectangle((0., 4.), (0., 4.), name=\"R\")\n",
        "t = Rectangle((1.5, 3.5), (1., 3.), name=\"S\")\n",
        "d = disjoint_difference(r, t)\n",
        "print(d)\n",
        "draw_rectangles(r, t)\n",
        "draw_rectangles(*d)"
      ]
    },
    {
      "cell_type": "markdown",
      "metadata": {
        "id": "pHL9SV8dy0Vs",
        "notebookgrader": {
          "id": "ce095884ea5f2e25e06f581717d3cd804d9a3a86",
          "readonly": true
        }
      },
      "source": [
        "## Regions\n",
        "\n",
        "The problem with rectangles is that they are not closed under union: the union of two rectangles is not necessarily a rectangle.  \n",
        "\n",
        "We want a representation for objects in space that is closed under union, intersection, and difference.\n",
        "To this end, we introduce _regions_, which are unions of rectangles.\n"
      ]
    },
    {
      "cell_type": "code",
      "execution_count": null,
      "metadata": {
        "id": "YbeFW6SSySBR",
        "notebookgrader": {
          "id": "1abed5392b11b57ef1f26cc9166f4827a96fb647",
          "is_solution": false,
          "is_tests": false,
          "readonly": true
        }
      },
      "outputs": [],
      "source": [
        "class Region(object):\n",
        "\n",
        "    def __init__(self, *rectangles, name=None):\n",
        "        \"\"\"A region is initialized via a set of rectangles.\"\"\"\n",
        "        assert len(rectangles) > 0, \"A region requires at least one rectangle.\"\n",
        "        self.ndims = rectangles[0].ndims\n",
        "        for r in rectangles[1:]:\n",
        "            assert r.ndims == self.ndims, \"The rectangles do not all have the same dimensions!\"\n",
        "        self.rectangles = list(rectangles)\n",
        "        if name is None:\n",
        "            self.name = ''.join(\n",
        "                random.choices(string.ascii_letters + string.digits, k=8))\n",
        "        else:\n",
        "            self.name = name\n",
        "\n",
        "    def draw(self):\n",
        "        draw_rectangles(*self.rectangles, prefix=self.name + \":\")\n",
        "\n",
        "    def __or__(self, other):\n",
        "        \"\"\"Union of regions.\"\"\"\n",
        "        return Region(*(self.rectangles + other.rectangles), name=self.name + \"_union_\" + other.name)"
      ]
    },
    {
      "cell_type": "code",
      "execution_count": null,
      "metadata": {
        "id": "qrnkne3imfkX",
        "notebookgrader": {
          "id": "a87f59fcada421dcc1fc429c5f0e16319213e461",
          "is_solution": false,
          "is_tests": false,
          "readonly": true
        },
        "colab": {
          "base_uri": "https://localhost:8080/",
          "height": 374
        },
        "outputId": "ee00eb97-ab9e-4d79-9321-c5069348f61c"
      },
      "outputs": [
        {
          "output_type": "display_data",
          "data": {
            "text/plain": [
              "<Figure size 600x400 with 1 Axes>"
            ],
            "image/png": "[encoded data removed]"
          },
          "metadata": {}
        }
      ],
      "source": [
        "# Let us try.\n",
        "r = Rectangle((0., 4.), (0., 4.), name=\"R\")\n",
        "t = Rectangle((1.5, 3.5), (1., 5.), name=\"T\")\n",
        "\n",
        "reg1 = Region(r, name=\"Reg1\")\n",
        "reg2 = Region(t, name=\"Reg2\")\n",
        "\n",
        "(reg1 | reg2).draw()"
      ]
    },
    {
      "cell_type": "markdown",
      "metadata": {
        "id": "Bhpg-310ZXJX",
        "notebookgrader": {
          "id": "c7703af286e7b4c72955cbfbd6f5f78d99d7a475",
          "readonly": true
        }
      },
      "source": [
        "## Exercises"
      ]
    },
    {
      "cell_type": "markdown",
      "metadata": {
        "id": "8dvLaa6umfkd",
        "notebookgrader": {
          "id": "a0354ba0e427c408b8244028f12dde20e5ae6cc0",
          "readonly": true
        }
      },
      "source": [
        "**Exercise**: Write a method `__and__` that computes the region representing the intersection of two regions."
      ]
    },
    {
      "cell_type": "markdown",
      "metadata": {
        "id": "ili0oD9w6ZDZ",
        "notebookgrader": {
          "id": "d2aed3db49f6da4fb767dce4800441e68795f05b",
          "readonly": true
        }
      },
      "source": [
        "**Exercise:** Write a method `__contains__`, which checks whether a n-dimensional point belongs to the region.  Remember, a point belongs to the region if it belongs to one of the rectangles in the region."
      ]
    },
    {
      "cell_type": "code",
      "execution_count": null,
      "metadata": {
        "id": "N4C31Hl2iU0S",
        "notebookgrader": {
          "id": "6219f9878c4e991a88f06a34f0dc8c216691e735",
          "is_solution": true,
          "is_tests": false,
          "readonly": false
        }
      },
      "outputs": [],
      "source": [
        "#@title Membership of a point in a region\n",
        "\n",
        "def region_contains(self, p):\n",
        "    ### YOUR SOLUTION HERE\n",
        "\n",
        "\n",
        "    for rectangle in self.rectangles:\n",
        "      if p in rectangle:\n",
        "        return True\n",
        "      return False\n",
        "\n",
        "\n",
        "Region.__contains__ = region_contains"
      ]
    },
    {
      "cell_type": "code",
      "execution_count": null,
      "metadata": {
        "id": "E5G-6zZWlQy2",
        "notebookgrader": {
          "id": "5774d2e6b6240c771bf7cfc95d2c505cfbfb7249",
          "is_solution": false,
          "is_tests": true,
          "readonly": true,
          "test_points": 10
        }
      },
      "outputs": [],
      "source": [
        "# Tests 10 points.\n",
        "\n",
        "assert (2, 1) in Region(Rectangle((0, 2), (0, 3)), Rectangle((4, 6), (5, 8)))\n",
        "assert (2, 1) not in Region(Rectangle((0, 1), (0, 3)), Rectangle((4, 6), (5, 8)))"
      ]
    },
    {
      "cell_type": "markdown",
      "metadata": {
        "id": "LeChjhzBcVOf",
        "notebookgrader": {
          "id": "75c011c9416d8940b0205d3eef860810d9931012",
          "readonly": true
        }
      },
      "source": [
        "**Exercise:** Write a method `__le__` for regions such that `R <= S` if the region `R` is contained in the region `S`.  You can test this by checking that the difference between R and S is empty."
      ]
    },
    {
      "cell_type": "markdown",
      "metadata": {
        "id": "OGdFDlEW-XlT",
        "notebookgrader": {
          "id": "dc99c6fae5f36d9a628539ad4d1628c387323a3a",
          "readonly": true
        }
      },
      "source": [
        "**Excercise:** Write a subclass `NonoverlappingRegion` of `Region`, such that rectangles in `NonoverlappingRegion` are non-overlapping.  One should be able to create an object of class `NonoverlappingRegion` from any list of rectangles, and the initializer should use the method `disjoint_minus` to generate a list of non-overlapping rectangles defining the same region of space.  "
      ]
    },
    {
      "cell_type": "markdown",
      "metadata": {
        "id": "5zFOK6nAyfu8",
        "notebookgrader": {
          "id": "dbe3ea5089d9fb24f874ed19733fcd161ff39409",
          "readonly": true
        }
      },
      "source": [
        "## Monte-Carlo Methods\n",
        "\n",
        "There are some obvious things we might want to do with a region, namely, compute its volume, compute whether two regions are equal, and compute the center of mass of a region.\n",
        "\n",
        "There are two approaches to this.\n",
        "\n",
        "One is to develop a precise approach.  The problem in computing the volume of a region is that the rectangles in it might overlap.  To solve this, one can use our method for computing disjoing differences to put regions in _normal form_, consisting of non-overlapping rectangles.\n",
        "The idea is to keep a region as a list of non-overlapping rectangles.  When we add a rectangle $S$ from a region consisting of non-overlapping rectangles $R_1, \\ldots, R_n$, we first subtract from $S$ each of $R_1, \\ldots, R_n$ in turn, getting as result a bunch of subrectangles of $S$; we can then add these subrectangles to the region.\n",
        "\n",
        "But this sounds like work!\n",
        "\n",
        "An alternative is to develop a _randomized_ approach."
      ]
    },
    {
      "cell_type": "markdown",
      "metadata": {
        "id": "zDWkI9M7zpnu",
        "notebookgrader": {
          "id": "d90e4e85155eb93818b0e833c364a04af420480f",
          "readonly": true
        }
      },
      "source": [
        "### A Monte-Carlo algorithm for region area\n",
        "\n",
        "We can develop a randomized approach to measuring the area of a region as follows.  First, we compute a _bounding box_ around it, which is simply the smallest rectangle guaranteed to contain the region.  We simply take, for each coordinate, the min and max values of that coordinate of any rectangle in the region.\n",
        "\n",
        "Once we have a bounding box $B$ for a region $\\cal R$, we simply pick at random a lot of points $x \\in B$, using our Python `random` function.   We can use our test $x \\in \\cal R$, written in code as `x in my_region`, to check whether a point $x$ belongs to region $\\cal R$.  Let $N$ be the number of points we generate, and $M$ be the number of points that end up in $\\cal R$.  The volume $V_{\\cal R}$ of the region $\\cal R$ can be simply written as:\n",
        "\n",
        "$$\n",
        "V_{\\cal R} = \\frac{M}{N} \\cdot V_B \\; ,\n",
        "$$\n",
        "\n",
        "where $V_B$ is the volume of the bounding box.  We will lead you to implement this code in steps.\n",
        "\n",
        "This method is an example of a [Monte Carlo method](https://en.wikipedia.org/wiki/Monte_Carlo_method), a method which gives an answer to a question via repeated randomized experiments, rather than via mathematical computation, which may be complex or unfeasible."
      ]
    },
    {
      "cell_type": "markdown",
      "metadata": {
        "id": "6t2TLzjF1V4z",
        "notebookgrader": {
          "id": "1613ba585fdb76833159aa4fccb1fadb30668b9b",
          "readonly": true
        }
      },
      "source": [
        "\n",
        "for\n",
        "\n",
        "\n",
        "### Bounding boxes\n",
        "\n",
        "\n",
        "\n",
        "\n",
        "\n",
        "First, write a method `bounding_box` of a region, which returns the bounding box as a rectangle.        sdfgsefgvaergae"
      ]
    },
    {
      "cell_type": "code",
      "execution_count": null,
      "metadata": {
        "id": "lH6I8i-4yd2g",
        "notebookgrader": {
          "id": "c8b315128baa89c74c58e534c00e3a0dfabe42eb",
          "is_solution": true,
          "is_tests": false,
          "readonly": false
        }
      },
      "outputs": [],
      "source": [
        "#@title Compute the bounding box of a region\n",
        "\n",
        "def region_bounding_box(self):\n",
        "    \"\"\"Returns the bounding box of the region, as a rectangle.\n",
        "    This returns None if the region does not contain any rectangle.\"\"\"\n",
        "    if len(self.rectangles) == 0:\n",
        "        return None\n",
        "    ### YOUR SOLUTION HERE\n",
        "    for rectangle in self.rectangles:\n",
        "      for i in rectangle:\n",
        "        start = min(i)\n",
        "        end = max(i)\n",
        "    return (start, end)\n",
        "\n",
        "\n",
        "Region.bounding_box = property(region_bounding_box)"
      ]
    },
    {
      "cell_type": "code",
      "execution_count": null,
      "metadata": {
        "id": "9DQ-NuAC20zw",
        "notebookgrader": {
          "id": "e681b4b587a47f6e285be1d5fe86b98909143bdc",
          "is_solution": false,
          "is_tests": false,
          "readonly": true
        },
        "colab": {
          "base_uri": "https://localhost:8080/",
          "height": 461
        },
        "outputId": "bb4a98b4-9bee-4b6a-c161-acfe26b24f22"
      },
      "outputs": [
        {
          "output_type": "error",
          "ename": "KeyError",
          "evalue": "ignored",
          "traceback": [
            "\u001b[0;31m---------------------------------------------------------------------------\u001b[0m",
            "\u001b[0;31mKeyError\u001b[0m                                  Traceback (most recent call last)",
            "\u001b[0;32m<ipython-input-113-0dd3d642ad52>\u001b[0m in \u001b[0;36m<cell line: 2>\u001b[0;34m()\u001b[0m\n\u001b[1;32m      1\u001b[0m \u001b[0mreg\u001b[0m \u001b[0;34m=\u001b[0m \u001b[0mRegion\u001b[0m\u001b[0;34m(\u001b[0m\u001b[0mRectangle\u001b[0m\u001b[0;34m(\u001b[0m\u001b[0;34m(\u001b[0m\u001b[0;36m0\u001b[0m\u001b[0;34m,\u001b[0m \u001b[0;36m2\u001b[0m\u001b[0;34m)\u001b[0m\u001b[0;34m,\u001b[0m \u001b[0;34m(\u001b[0m\u001b[0;36m1\u001b[0m\u001b[0;34m,\u001b[0m \u001b[0;36m3\u001b[0m\u001b[0;34m)\u001b[0m\u001b[0;34m)\u001b[0m\u001b[0;34m,\u001b[0m \u001b[0mRectangle\u001b[0m\u001b[0;34m(\u001b[0m\u001b[0;34m(\u001b[0m\u001b[0;36m4\u001b[0m\u001b[0;34m,\u001b[0m \u001b[0;36m6\u001b[0m\u001b[0;34m)\u001b[0m\u001b[0;34m,\u001b[0m \u001b[0;34m(\u001b[0m\u001b[0;36m5\u001b[0m\u001b[0;34m,\u001b[0m \u001b[0;36m8\u001b[0m\u001b[0;34m)\u001b[0m\u001b[0;34m)\u001b[0m\u001b[0;34m)\u001b[0m\u001b[0;34m\u001b[0m\u001b[0;34m\u001b[0m\u001b[0m\n\u001b[0;32m----> 2\u001b[0;31m \u001b[0mreg\u001b[0m\u001b[0;34m.\u001b[0m\u001b[0mbounding_box\u001b[0m\u001b[0;34m\u001b[0m\u001b[0;34m\u001b[0m\u001b[0m\n\u001b[0m",
            "\u001b[0;32m<ipython-input-112-8be81284b580>\u001b[0m in \u001b[0;36mregion_bounding_box\u001b[0;34m(self)\u001b[0m\n\u001b[1;32m      9\u001b[0m     \u001b[0;32mfor\u001b[0m \u001b[0mrectangle\u001b[0m \u001b[0;32min\u001b[0m \u001b[0mself\u001b[0m\u001b[0;34m.\u001b[0m\u001b[0mrectangles\u001b[0m\u001b[0;34m:\u001b[0m\u001b[0;34m\u001b[0m\u001b[0;34m\u001b[0m\u001b[0m\n\u001b[1;32m     10\u001b[0m       \u001b[0;32mfor\u001b[0m \u001b[0mi\u001b[0m \u001b[0;32min\u001b[0m \u001b[0mrectangle\u001b[0m\u001b[0;34m:\u001b[0m\u001b[0;34m\u001b[0m\u001b[0;34m\u001b[0m\u001b[0m\n\u001b[0;32m---> 11\u001b[0;31m         \u001b[0mstart\u001b[0m \u001b[0;34m=\u001b[0m \u001b[0mmin\u001b[0m\u001b[0;34m(\u001b[0m\u001b[0mi\u001b[0m\u001b[0;34m)\u001b[0m\u001b[0;34m\u001b[0m\u001b[0;34m\u001b[0m\u001b[0m\n\u001b[0m\u001b[1;32m     12\u001b[0m         \u001b[0mend\u001b[0m \u001b[0;34m=\u001b[0m \u001b[0mmax\u001b[0m\u001b[0;34m(\u001b[0m\u001b[0mi\u001b[0m\u001b[0;34m)\u001b[0m\u001b[0;34m\u001b[0m\u001b[0;34m\u001b[0m\u001b[0m\n\u001b[1;32m     13\u001b[0m     \u001b[0;32mreturn\u001b[0m \u001b[0;34m(\u001b[0m\u001b[0mstart\u001b[0m\u001b[0;34m,\u001b[0m \u001b[0mend\u001b[0m\u001b[0;34m)\u001b[0m\u001b[0;34m\u001b[0m\u001b[0;34m\u001b[0m\u001b[0m\n",
            "\u001b[0;32m<ipython-input-45-e5a478188739>\u001b[0m in \u001b[0;36m__getitem__\u001b[0;34m(self, i)\u001b[0m\n\u001b[1;32m     21\u001b[0m         \u001b[0;32melif\u001b[0m \u001b[0mi\u001b[0m \u001b[0;34m==\u001b[0m \u001b[0;36m1\u001b[0m\u001b[0;34m:\u001b[0m\u001b[0;34m\u001b[0m\u001b[0;34m\u001b[0m\u001b[0m\n\u001b[1;32m     22\u001b[0m             \u001b[0;32mreturn\u001b[0m \u001b[0mself\u001b[0m\u001b[0;34m.\u001b[0m\u001b[0mx1\u001b[0m\u001b[0;34m\u001b[0m\u001b[0;34m\u001b[0m\u001b[0m\n\u001b[0;32m---> 23\u001b[0;31m         \u001b[0;32mraise\u001b[0m \u001b[0mKeyError\u001b[0m\u001b[0;34m(\u001b[0m\u001b[0;34m)\u001b[0m\u001b[0;34m\u001b[0m\u001b[0;34m\u001b[0m\u001b[0m\n\u001b[0m\u001b[1;32m     24\u001b[0m \u001b[0;34m\u001b[0m\u001b[0m\n\u001b[1;32m     25\u001b[0m     \u001b[0;32mdef\u001b[0m \u001b[0m__repr__\u001b[0m\u001b[0;34m(\u001b[0m\u001b[0mself\u001b[0m\u001b[0;34m)\u001b[0m\u001b[0;34m:\u001b[0m\u001b[0;34m\u001b[0m\u001b[0;34m\u001b[0m\u001b[0m\n",
            "\u001b[0;31mKeyError\u001b[0m: "
          ]
        }
      ],
      "source": [
        "reg = Region(Rectangle((0, 2), (1, 3)), Rectangle((4, 6), (5, 8)))\n",
        "reg.bounding_box"
      ]
    },
    {
      "cell_type": "markdown",
      "metadata": {
        "id": "aCNRJKzm3yHi",
        "notebookgrader": {
          "id": "3d195b2226758ab595c5a80e5e5d1bdfa47cbe23",
          "readonly": true
        }
      },
      "source": [
        "### Select random points from a rectangle\n",
        "\n",
        "Next, we write a Rectangle method `random_point`, which returns a point of a rectangle chosen uniformly at random each time it is called.  To this end, it is easier first to write the corresponding method for an interval.  [In Python](https://docs.python.org/3/library/random.html#real-valued-distributions),\n",
        "\n",
        "    random.random()\n",
        "\n",
        "returns a random value uniformly distributed between 0 and 1, and\n",
        "\n",
        "    random.uniform(a, b)\n",
        "\n",
        "returns a random value uniformly distributed between a and b.  We can use this to define the interval method:"
      ]
    },
    {
      "cell_type": "code",
      "execution_count": null,
      "metadata": {
        "id": "GiqxFV1u2_KH",
        "notebookgrader": {
          "id": "07ae40acf9fb4bb1ffce2c98e7856c91735cc043",
          "is_solution": false,
          "is_tests": false,
          "readonly": true
        }
      },
      "outputs": [],
      "source": [
        "import random\n",
        "\n",
        "def interval_random_point(self):\n",
        "    return random.uniform(self.x0, self.x1)\n",
        "\n",
        "Interval.random_point = interval_random_point\n",
        "\n",
        "# Or if we wanted to be concise, we could just have written:\n",
        "\n",
        "Interval.random_point = lambda self : random.uniform(self.x0, self.x1)"
      ]
    },
    {
      "cell_type": "markdown",
      "metadata": {
        "id": "jx7n4dSt5omx",
        "notebookgrader": {
          "id": "71ccdc9f65638069108d61db8b326bde057e8b7d",
          "readonly": true
        }
      },
      "source": [
        "To select a random point from a rectangle, we just need to return a tuple formed by choosing a random point from each of the rectangle's intervals.  We leave this to you.  Remember that the intervals of a rectangle `self` are in `self.intervals`."
      ]
    },
    {
      "cell_type": "code",
      "execution_count": null,
      "metadata": {
        "id": "yV1NFqEh5kHr",
        "notebookgrader": {
          "id": "c355be088b95f4819e9226d5e11e5b727edda56c",
          "is_solution": true,
          "is_tests": false,
          "readonly": false
        }
      },
      "outputs": [],
      "source": [
        "#@title Random point of a rectangle\n",
        "\n",
        "def rectangle_random_point(self):\n",
        "    ### YOUR SOLUTION HERE\n",
        "    for i in self.intervals:\n",
        "      return random.uniform(self[0], self[1])\n",
        "\n",
        "Rectangle.random_point = rectangle_random_point"
      ]
    },
    {
      "cell_type": "code",
      "execution_count": null,
      "metadata": {
        "id": "1rE6bl5z6NOL",
        "notebookgrader": {
          "id": "1ee60f83d73c8c9bb9d954c7ccda68a881f85d0c",
          "is_solution": false,
          "is_tests": false,
          "readonly": true
        },
        "colab": {
          "base_uri": "https://localhost:8080/",
          "height": 391
        },
        "outputId": "d5fb7944-55e4-4df4-d0a2-415b1576fb88"
      },
      "outputs": [
        {
          "output_type": "error",
          "ename": "TypeError",
          "evalue": "ignored",
          "traceback": [
            "\u001b[0;31m---------------------------------------------------------------------------\u001b[0m",
            "\u001b[0;31mTypeError\u001b[0m                                 Traceback (most recent call last)",
            "\u001b[0;32m<ipython-input-121-ba5c2a7fad2e>\u001b[0m in \u001b[0;36m<cell line: 3>\u001b[0;34m()\u001b[0m\n\u001b[1;32m      2\u001b[0m \u001b[0;34m\u001b[0m\u001b[0m\n\u001b[1;32m      3\u001b[0m \u001b[0;32mfor\u001b[0m \u001b[0mi\u001b[0m \u001b[0;32min\u001b[0m \u001b[0mrange\u001b[0m\u001b[0;34m(\u001b[0m\u001b[0;36m5\u001b[0m\u001b[0;34m)\u001b[0m\u001b[0;34m:\u001b[0m\u001b[0;34m\u001b[0m\u001b[0;34m\u001b[0m\u001b[0m\n\u001b[0;32m----> 4\u001b[0;31m     \u001b[0mp\u001b[0m \u001b[0;34m=\u001b[0m \u001b[0mr\u001b[0m\u001b[0;34m.\u001b[0m\u001b[0mrandom_point\u001b[0m\u001b[0;34m(\u001b[0m\u001b[0;34m)\u001b[0m\u001b[0;34m\u001b[0m\u001b[0;34m\u001b[0m\u001b[0m\n\u001b[0m\u001b[1;32m      5\u001b[0m     \u001b[0;32massert\u001b[0m \u001b[0misinstance\u001b[0m\u001b[0;34m(\u001b[0m\u001b[0mp\u001b[0m\u001b[0;34m,\u001b[0m \u001b[0mtuple\u001b[0m\u001b[0;34m)\u001b[0m\u001b[0;34m\u001b[0m\u001b[0;34m\u001b[0m\u001b[0m\n\u001b[1;32m      6\u001b[0m     \u001b[0;32massert\u001b[0m \u001b[0mlen\u001b[0m\u001b[0;34m(\u001b[0m\u001b[0mp\u001b[0m\u001b[0;34m)\u001b[0m \u001b[0;34m==\u001b[0m \u001b[0;36m2\u001b[0m\u001b[0;34m\u001b[0m\u001b[0;34m\u001b[0m\u001b[0m\n",
            "\u001b[0;32m<ipython-input-120-81f2bccfe023>\u001b[0m in \u001b[0;36mrectangle_random_point\u001b[0;34m(self)\u001b[0m\n\u001b[1;32m      4\u001b[0m     \u001b[0;31m### YOUR SOLUTION HERE\u001b[0m\u001b[0;34m\u001b[0m\u001b[0;34m\u001b[0m\u001b[0m\n\u001b[1;32m      5\u001b[0m     \u001b[0;32mfor\u001b[0m \u001b[0mi\u001b[0m \u001b[0;32min\u001b[0m \u001b[0mself\u001b[0m\u001b[0;34m.\u001b[0m\u001b[0mintervals\u001b[0m\u001b[0;34m:\u001b[0m\u001b[0;34m\u001b[0m\u001b[0;34m\u001b[0m\u001b[0m\n\u001b[0;32m----> 6\u001b[0;31m       \u001b[0;32mreturn\u001b[0m \u001b[0mrandom\u001b[0m\u001b[0;34m.\u001b[0m\u001b[0muniform\u001b[0m\u001b[0;34m(\u001b[0m\u001b[0mself\u001b[0m\u001b[0;34m[\u001b[0m\u001b[0;36m0\u001b[0m\u001b[0;34m]\u001b[0m\u001b[0;34m,\u001b[0m \u001b[0mself\u001b[0m\u001b[0;34m[\u001b[0m\u001b[0;36m1\u001b[0m\u001b[0;34m]\u001b[0m\u001b[0;34m)\u001b[0m\u001b[0;34m\u001b[0m\u001b[0;34m\u001b[0m\u001b[0m\n\u001b[0m\u001b[1;32m      7\u001b[0m \u001b[0;34m\u001b[0m\u001b[0m\n\u001b[1;32m      8\u001b[0m \u001b[0mRectangle\u001b[0m\u001b[0;34m.\u001b[0m\u001b[0mrandom_point\u001b[0m \u001b[0;34m=\u001b[0m \u001b[0mrectangle_random_point\u001b[0m\u001b[0;34m\u001b[0m\u001b[0;34m\u001b[0m\u001b[0m\n",
            "\u001b[0;32m/usr/lib/python3.10/random.py\u001b[0m in \u001b[0;36muniform\u001b[0;34m(self, a, b)\u001b[0m\n\u001b[1;32m    546\u001b[0m     \u001b[0;32mdef\u001b[0m \u001b[0muniform\u001b[0m\u001b[0;34m(\u001b[0m\u001b[0mself\u001b[0m\u001b[0;34m,\u001b[0m \u001b[0ma\u001b[0m\u001b[0;34m,\u001b[0m \u001b[0mb\u001b[0m\u001b[0;34m)\u001b[0m\u001b[0;34m:\u001b[0m\u001b[0;34m\u001b[0m\u001b[0;34m\u001b[0m\u001b[0m\n\u001b[1;32m    547\u001b[0m         \u001b[0;34m\"Get a random number in the range [a, b) or [a, b] depending on rounding.\"\u001b[0m\u001b[0;34m\u001b[0m\u001b[0;34m\u001b[0m\u001b[0m\n\u001b[0;32m--> 548\u001b[0;31m         \u001b[0;32mreturn\u001b[0m \u001b[0ma\u001b[0m \u001b[0;34m+\u001b[0m \u001b[0;34m(\u001b[0m\u001b[0mb\u001b[0m \u001b[0;34m-\u001b[0m \u001b[0ma\u001b[0m\u001b[0;34m)\u001b[0m \u001b[0;34m*\u001b[0m \u001b[0mself\u001b[0m\u001b[0;34m.\u001b[0m\u001b[0mrandom\u001b[0m\u001b[0;34m(\u001b[0m\u001b[0;34m)\u001b[0m\u001b[0;34m\u001b[0m\u001b[0;34m\u001b[0m\u001b[0m\n\u001b[0m\u001b[1;32m    549\u001b[0m \u001b[0;34m\u001b[0m\u001b[0m\n\u001b[1;32m    550\u001b[0m     \u001b[0;32mdef\u001b[0m \u001b[0mtriangular\u001b[0m\u001b[0;34m(\u001b[0m\u001b[0mself\u001b[0m\u001b[0;34m,\u001b[0m \u001b[0mlow\u001b[0m\u001b[0;34m=\u001b[0m\u001b[0;36m0.0\u001b[0m\u001b[0;34m,\u001b[0m \u001b[0mhigh\u001b[0m\u001b[0;34m=\u001b[0m\u001b[0;36m1.0\u001b[0m\u001b[0;34m,\u001b[0m \u001b[0mmode\u001b[0m\u001b[0;34m=\u001b[0m\u001b[0;32mNone\u001b[0m\u001b[0;34m)\u001b[0m\u001b[0;34m:\u001b[0m\u001b[0;34m\u001b[0m\u001b[0;34m\u001b[0m\u001b[0m\n",
            "\u001b[0;31mTypeError\u001b[0m: can't multiply sequence by non-int of type 'float'"
          ]
        }
      ],
      "source": [
        "r = Rectangle((0, 2), (1, 3))\n",
        "\n",
        "for i in range(5):\n",
        "    p = r.random_point()\n",
        "    assert isinstance(p, tuple)\n",
        "    assert len(p) == 2\n",
        "    assert p in r\n",
        "    print(p)"
      ]
    },
    {
      "cell_type": "markdown",
      "metadata": {
        "id": "NoD-oQaU6q6B",
        "notebookgrader": {
          "id": "75fabee646692f73e134d0efc3c9071439b7f5a7",
          "readonly": true
        }
      },
      "source": [
        "We are now ready to compute the volume of a region $\\cal R$ using Monte Carlo methods.  The form of your code is:\n",
        "\n",
        "* Compute the bounding box $B$\n",
        "* Pick $N$ points at random from $B$, and count the number $M$ of them that fall in $\\cal R$.\n",
        "* Return $B.volume \\cdot (M/N)$."
      ]
    },
    {
      "cell_type": "code",
      "execution_count": null,
      "metadata": {
        "id": "1Bh7kXJ66fWr",
        "notebookgrader": {
          "id": "7f483480dc2ddc6627dea3788e89795ac35c49b2",
          "is_solution": true,
          "is_tests": false,
          "readonly": false
        }
      },
      "outputs": [],
      "source": [
        "#@title Monte carlo Volume\n",
        "\n",
        "def region_montecarlo_volume(self, n=1000):\n",
        "    \"\"\"Computes the volume of a region, using Monte Carlo approximation\n",
        "    with n samples.\"\"\"\n",
        "    # The solution, written without any particular trick, takes 7 lines.\n",
        "    # If you write a much longer solution, you are on the wrong track.\n",
        "    ### YOUR SOLUTION HERE\n",
        "\n",
        "Region.montecarlo_volume = region_montecarlo_volume"
      ]
    },
    {
      "cell_type": "markdown",
      "metadata": {
        "id": "-nf3MUCo81gL",
        "notebookgrader": {
          "id": "a1185b67ab373535ff02a1067e7816907ac4f81d",
          "readonly": true
        }
      },
      "source": [
        "The approximation becomes the more precise, the more samples we have."
      ]
    },
    {
      "cell_type": "code",
      "execution_count": null,
      "metadata": {
        "id": "8C0HETqE8eap",
        "notebookgrader": {
          "id": "95184cb898e7269884552b95eee96b818865bc88",
          "is_solution": false,
          "is_tests": false,
          "readonly": true
        }
      },
      "outputs": [],
      "source": [
        "reg = Region(Rectangle((0, 4), (0, 2)), Rectangle((1, 2), (0, 4)))\n",
        "reg.draw()\n",
        "print(\"   10 samples:\", reg.montecarlo_volume(n=10))\n",
        "print(\"  100 samples:\", reg.montecarlo_volume(n=100))\n",
        "print(\" 1000 samples:\", reg.montecarlo_volume(n=1000))\n",
        "print(\"10000 samples:\", reg.montecarlo_volume(n=10000))"
      ]
    },
    {
      "cell_type": "code",
      "execution_count": null,
      "metadata": {
        "id": "dQ9H_TDVEHKX",
        "notebookgrader": {
          "id": "a22028fab909a13ce9ac2a21444934ed5d335e1c",
          "is_solution": false,
          "is_tests": false,
          "readonly": true
        }
      },
      "outputs": [],
      "source": [
        "reg = Region(Rectangle((0, 1), (0, 4)), Rectangle((0, 4), (0, 1)))\n",
        "reg.draw()\n",
        "print(\"   10 samples:\", reg.montecarlo_volume(n=10))\n",
        "print(\"  100 samples:\", reg.montecarlo_volume(n=100))\n",
        "print(\" 1000 samples:\", reg.montecarlo_volume(n=1000))\n",
        "print(\"10000 samples:\", reg.montecarlo_volume(n=10000))"
      ]
    },
    {
      "cell_type": "markdown",
      "metadata": {
        "id": "tjDEiFTA-ZbD",
        "notebookgrader": {
          "id": "d96dbd3397a6031d93a1ca06d79f0e673092d9f2",
          "readonly": true
        }
      },
      "source": [
        "We could quantify the standard deviation of the result, but it is beyond the scope of this class."
      ]
    },
    {
      "cell_type": "markdown",
      "metadata": {
        "id": "o6_5QDOk-rTU",
        "notebookgrader": {
          "id": "8fedd84ee7f706e7e2c367f112d0cf89caf42466",
          "readonly": true
        }
      },
      "source": [
        "**Exercise (BONUS 10pts):** Develop a Monte-Carlo method for computing the center of mass of a region.  The idea consists in sampling uniformly at random from the bounding box, retaining only the points that are in the region.  The center of mass of the sampled points in the region provides an approximation for the center of mass of the region."
      ]
    },
    {
      "cell_type": "markdown",
      "metadata": {
        "id": "UZ5_0vPD_GYr",
        "notebookgrader": {
          "id": "ce2ccce3ce8a88bba9d300864391bda7950815ac",
          "readonly": true
        }
      },
      "source": [
        "## A Monte-Carlo method for region equality\n",
        "\n",
        "We can apply Monte Carlo methods also to the question of deciding region equality.\n",
        "\n",
        "One way to decide whether two regions $\\cal R_1$ and $\\cal R_2$ are equal consists in subtracting $\\cal R_2$ from $\\cal R_1$ and checking that the result is empty, and then subtracting $\\cal R_1$ from $\\cal R_2$, and checking that it is also empty.\n",
        "\n",
        "But again, this sounds like work, and why work if we can just guess?\n",
        "\n",
        "The idea is to compute the bounding box $B$ of $\\cal R_1 \\cup \\cal R_2$, and to sample points from $B$.  If we find a point $p$ that belongs to one region but not the other, we declare the regions distinct.  If we do not find such \"distinguishing\" point after $N$ trials, we declare the regions identical, and the point serves as a witness to their difference.\n",
        "\n",
        "We leave the implementation to you."
      ]
    },
    {
      "cell_type": "code",
      "execution_count": null,
      "metadata": {
        "id": "B2KElWYZ9D_R",
        "notebookgrader": {
          "id": "b4c3f47905b428beb11d20c9a1208b78e6bd4ca1",
          "is_solution": true,
          "is_tests": false,
          "readonly": false
        }
      },
      "outputs": [],
      "source": [
        "#@title Monte Carlo difference and equality between regions\n",
        "\n",
        "def region_montecarlo_difference(self, other, n=1000):\n",
        "    \"\"\"Checks whether a region self is different from a region other, using\n",
        "    a Monte Carlo method with n samples.  It returns either a point p that\n",
        "    witnesses the difference of the regions, or None, if no such point is found.\"\"\"\n",
        "    # This can be done without hurry in 6 lines of code.\n",
        "    ### YOUR SOLUTION HERE\n",
        "\n",
        "Region.montecarlo_difference = region_montecarlo_difference\n",
        "\n",
        "def region_montecarlo_equality(self, other, n=1000):\n",
        "    return self.montecarlo_difference(other, n=n) is None\n",
        "\n",
        "Region.montecarlo_equality = region_montecarlo_equality"
      ]
    },
    {
      "cell_type": "code",
      "execution_count": null,
      "metadata": {
        "id": "cwGDwPWoCB2D",
        "notebookgrader": {
          "id": "7ad600d88dda90d913b4a1e6052e91a37e4f82a8",
          "is_solution": false,
          "is_tests": false,
          "readonly": true
        }
      },
      "outputs": [],
      "source": [
        "reg1 = Region(Rectangle((0, 4), (0, 2)), Rectangle((1, 2), (0, 4)), name=\"reg1\")\n",
        "reg2 = Region(Rectangle((0, 4), (0, 2)), Rectangle((1, 2), (1, 4)), name=\"reg2\")\n",
        "reg3 = Region(Rectangle((0, 4), (0, 2)), Rectangle((1, 2), (0, 3)), name=\"reg3\")\n",
        "reg1.draw()\n",
        "reg2.draw()\n",
        "reg3.draw()\n",
        "print(\"reg1 vs reg2\", reg1.montecarlo_equality(reg2))\n",
        "print(\"reg1 vs reg2\", reg1.montecarlo_equality(reg3))\n",
        "print(\"reg1 vs reg3\", reg1.montecarlo_difference(reg3))\n"
      ]
    },
    {
      "cell_type": "code",
      "execution_count": null,
      "metadata": {
        "id": "XuTgOgt9CZ5w",
        "notebookgrader": {
          "id": "50327e062144988168f46cc7d5a589575dd86001",
          "is_solution": false,
          "is_tests": false,
          "readonly": true
        }
      },
      "outputs": [],
      "source": []
    }
  ],
  "metadata": {
    "colab": {
      "provenance": []
    },
    "kernelspec": {
      "display_name": "Python 3",
      "name": "python3"
    },
    "language_info": {
      "name": "python"
    },
    "notebookgrader": {
      "total_points": 65
    },
    "vscode": {
      "interpreter": {
        "hash": "68b0fdbf1e2071a92e8e48fa8b2d24928f1619a4d3fa0e5b9d8fc97312abb7f8"
      }
    }
  },
  "nbformat": 4,
  "nbformat_minor": 0
}